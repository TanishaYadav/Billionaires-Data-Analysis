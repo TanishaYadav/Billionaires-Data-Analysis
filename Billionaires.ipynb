{
  "nbformat": 4,
  "nbformat_minor": 0,
  "metadata": {
    "colab": {
      "name": "Billionaires.ipynb",
      "provenance": [],
      "collapsed_sections": [],
      "toc_visible": true
    },
    "kernelspec": {
      "name": "python3",
      "display_name": "Python 3"
    },
    "language_info": {
      "name": "python"
    }
  },
  "cells": [
    {
      "cell_type": "markdown",
      "metadata": {
        "id": "mcnFLn-nWzf8"
      },
      "source": [
        "# **Forbes Billionaires Data**"
      ]
    },
    {
      "cell_type": "markdown",
      "source": [
        "    This Dataset contains list of all the people categorized as Billionaires of 2021 by Forbes in their 35th Annual World's Billionaires List.\n",
        "\n",
        "\n",
        "Source: https://www.kaggle.com/alexanderbader/forbes-billionaires-of-2021-20\n",
        "\n",
        "   https://www.kaggle.com/v4rsh1th/bloombergbillionairesdata"
      ],
      "metadata": {
        "id": "wrabS1a9ZzhT"
      }
    },
    {
      "cell_type": "code",
      "metadata": {
        "id": "0lUeJWZ3V2G7"
      },
      "source": [
        "import numpy as np\n",
        "import pandas as pd\n",
        "import matplotlib.pyplot as plt"
      ],
      "execution_count": null,
      "outputs": []
    },
    {
      "cell_type": "markdown",
      "metadata": {
        "id": "4bvzhR-WXOEK"
      },
      "source": [
        "### Reading dataset"
      ]
    },
    {
      "cell_type": "code",
      "source": [
        "data = pd.read_csv('Billionaire.csv')\n",
        "data"
      ],
      "metadata": {
        "colab": {
          "base_uri": "https://localhost:8080/",
          "height": 423
        },
        "id": "B4tjqWaqLolF",
        "outputId": "ee611c22-c80d-4c2e-9ddb-5774ffa4d9ab"
      },
      "execution_count": null,
      "outputs": [
        {
          "output_type": "execute_result",
          "data": {
            "text/html": [
              "\n",
              "  <div id=\"df-1d451915-1da6-4f98-93c3-472ba7d3c9a3\">\n",
              "    <div class=\"colab-df-container\">\n",
              "      <div>\n",
              "<style scoped>\n",
              "    .dataframe tbody tr th:only-of-type {\n",
              "        vertical-align: middle;\n",
              "    }\n",
              "\n",
              "    .dataframe tbody tr th {\n",
              "        vertical-align: top;\n",
              "    }\n",
              "\n",
              "    .dataframe thead th {\n",
              "        text-align: right;\n",
              "    }\n",
              "</style>\n",
              "<table border=\"1\" class=\"dataframe\">\n",
              "  <thead>\n",
              "    <tr style=\"text-align: right;\">\n",
              "      <th></th>\n",
              "      <th>Name</th>\n",
              "      <th>NetWorth</th>\n",
              "      <th>Country</th>\n",
              "      <th>Source</th>\n",
              "      <th>Rank</th>\n",
              "      <th>Age</th>\n",
              "      <th>Industry</th>\n",
              "    </tr>\n",
              "  </thead>\n",
              "  <tbody>\n",
              "    <tr>\n",
              "      <th>0</th>\n",
              "      <td>Jeff Bezos</td>\n",
              "      <td>$177 B</td>\n",
              "      <td>United States</td>\n",
              "      <td>Amazon</td>\n",
              "      <td>1</td>\n",
              "      <td>57.0</td>\n",
              "      <td>Technology</td>\n",
              "    </tr>\n",
              "    <tr>\n",
              "      <th>1</th>\n",
              "      <td>Elon Musk</td>\n",
              "      <td>$151 B</td>\n",
              "      <td>United States</td>\n",
              "      <td>Tesla, SpaceX</td>\n",
              "      <td>2</td>\n",
              "      <td>49.0</td>\n",
              "      <td>Automotive</td>\n",
              "    </tr>\n",
              "    <tr>\n",
              "      <th>2</th>\n",
              "      <td>Bernard Arnault &amp; family</td>\n",
              "      <td>$150 B</td>\n",
              "      <td>France</td>\n",
              "      <td>LVMH</td>\n",
              "      <td>3</td>\n",
              "      <td>72.0</td>\n",
              "      <td>Fashion &amp; Retail</td>\n",
              "    </tr>\n",
              "    <tr>\n",
              "      <th>3</th>\n",
              "      <td>Bill Gates</td>\n",
              "      <td>$124 B</td>\n",
              "      <td>United States</td>\n",
              "      <td>Microsoft</td>\n",
              "      <td>4</td>\n",
              "      <td>65.0</td>\n",
              "      <td>Technology</td>\n",
              "    </tr>\n",
              "    <tr>\n",
              "      <th>4</th>\n",
              "      <td>Mark Zuckerberg</td>\n",
              "      <td>$97 B</td>\n",
              "      <td>United States</td>\n",
              "      <td>Facebook</td>\n",
              "      <td>5</td>\n",
              "      <td>36.0</td>\n",
              "      <td>Technology</td>\n",
              "    </tr>\n",
              "    <tr>\n",
              "      <th>...</th>\n",
              "      <td>...</td>\n",
              "      <td>...</td>\n",
              "      <td>...</td>\n",
              "      <td>...</td>\n",
              "      <td>...</td>\n",
              "      <td>...</td>\n",
              "      <td>...</td>\n",
              "    </tr>\n",
              "    <tr>\n",
              "      <th>2750</th>\n",
              "      <td>Daniel Yong Zhang</td>\n",
              "      <td>$1 B</td>\n",
              "      <td>China</td>\n",
              "      <td>e-commerce</td>\n",
              "      <td>2674</td>\n",
              "      <td>49.0</td>\n",
              "      <td>Technology</td>\n",
              "    </tr>\n",
              "    <tr>\n",
              "      <th>2751</th>\n",
              "      <td>Zhang Yuqiang</td>\n",
              "      <td>$1 B</td>\n",
              "      <td>China</td>\n",
              "      <td>Fiberglass</td>\n",
              "      <td>2674</td>\n",
              "      <td>65.0</td>\n",
              "      <td>Manufacturing</td>\n",
              "    </tr>\n",
              "    <tr>\n",
              "      <th>2752</th>\n",
              "      <td>Zhao Meiguang</td>\n",
              "      <td>$1 B</td>\n",
              "      <td>China</td>\n",
              "      <td>gold mining</td>\n",
              "      <td>2674</td>\n",
              "      <td>58.0</td>\n",
              "      <td>Metals &amp; Mining</td>\n",
              "    </tr>\n",
              "    <tr>\n",
              "      <th>2753</th>\n",
              "      <td>Zhong Naixiong</td>\n",
              "      <td>$1 B</td>\n",
              "      <td>China</td>\n",
              "      <td>conglomerate</td>\n",
              "      <td>2674</td>\n",
              "      <td>58.0</td>\n",
              "      <td>Diversified</td>\n",
              "    </tr>\n",
              "    <tr>\n",
              "      <th>2754</th>\n",
              "      <td>Zhou Wei family</td>\n",
              "      <td>$1 B</td>\n",
              "      <td>China</td>\n",
              "      <td>Software</td>\n",
              "      <td>2674</td>\n",
              "      <td>54.0</td>\n",
              "      <td>Technology</td>\n",
              "    </tr>\n",
              "  </tbody>\n",
              "</table>\n",
              "<p>2755 rows × 7 columns</p>\n",
              "</div>\n",
              "      <button class=\"colab-df-convert\" onclick=\"convertToInteractive('df-1d451915-1da6-4f98-93c3-472ba7d3c9a3')\"\n",
              "              title=\"Convert this dataframe to an interactive table.\"\n",
              "              style=\"display:none;\">\n",
              "        \n",
              "  <svg xmlns=\"http://www.w3.org/2000/svg\" height=\"24px\"viewBox=\"0 0 24 24\"\n",
              "       width=\"24px\">\n",
              "    <path d=\"M0 0h24v24H0V0z\" fill=\"none\"/>\n",
              "    <path d=\"M18.56 5.44l.94 2.06.94-2.06 2.06-.94-2.06-.94-.94-2.06-.94 2.06-2.06.94zm-11 1L8.5 8.5l.94-2.06 2.06-.94-2.06-.94L8.5 2.5l-.94 2.06-2.06.94zm10 10l.94 2.06.94-2.06 2.06-.94-2.06-.94-.94-2.06-.94 2.06-2.06.94z\"/><path d=\"M17.41 7.96l-1.37-1.37c-.4-.4-.92-.59-1.43-.59-.52 0-1.04.2-1.43.59L10.3 9.45l-7.72 7.72c-.78.78-.78 2.05 0 2.83L4 21.41c.39.39.9.59 1.41.59.51 0 1.02-.2 1.41-.59l7.78-7.78 2.81-2.81c.8-.78.8-2.07 0-2.86zM5.41 20L4 18.59l7.72-7.72 1.47 1.35L5.41 20z\"/>\n",
              "  </svg>\n",
              "      </button>\n",
              "      \n",
              "  <style>\n",
              "    .colab-df-container {\n",
              "      display:flex;\n",
              "      flex-wrap:wrap;\n",
              "      gap: 12px;\n",
              "    }\n",
              "\n",
              "    .colab-df-convert {\n",
              "      background-color: #E8F0FE;\n",
              "      border: none;\n",
              "      border-radius: 50%;\n",
              "      cursor: pointer;\n",
              "      display: none;\n",
              "      fill: #1967D2;\n",
              "      height: 32px;\n",
              "      padding: 0 0 0 0;\n",
              "      width: 32px;\n",
              "    }\n",
              "\n",
              "    .colab-df-convert:hover {\n",
              "      background-color: #E2EBFA;\n",
              "      box-shadow: 0px 1px 2px rgba(60, 64, 67, 0.3), 0px 1px 3px 1px rgba(60, 64, 67, 0.15);\n",
              "      fill: #174EA6;\n",
              "    }\n",
              "\n",
              "    [theme=dark] .colab-df-convert {\n",
              "      background-color: #3B4455;\n",
              "      fill: #D2E3FC;\n",
              "    }\n",
              "\n",
              "    [theme=dark] .colab-df-convert:hover {\n",
              "      background-color: #434B5C;\n",
              "      box-shadow: 0px 1px 3px 1px rgba(0, 0, 0, 0.15);\n",
              "      filter: drop-shadow(0px 1px 2px rgba(0, 0, 0, 0.3));\n",
              "      fill: #FFFFFF;\n",
              "    }\n",
              "  </style>\n",
              "\n",
              "      <script>\n",
              "        const buttonEl =\n",
              "          document.querySelector('#df-1d451915-1da6-4f98-93c3-472ba7d3c9a3 button.colab-df-convert');\n",
              "        buttonEl.style.display =\n",
              "          google.colab.kernel.accessAllowed ? 'block' : 'none';\n",
              "\n",
              "        async function convertToInteractive(key) {\n",
              "          const element = document.querySelector('#df-1d451915-1da6-4f98-93c3-472ba7d3c9a3');\n",
              "          const dataTable =\n",
              "            await google.colab.kernel.invokeFunction('convertToInteractive',\n",
              "                                                     [key], {});\n",
              "          if (!dataTable) return;\n",
              "\n",
              "          const docLinkHtml = 'Like what you see? Visit the ' +\n",
              "            '<a target=\"_blank\" href=https://colab.research.google.com/notebooks/data_table.ipynb>data table notebook</a>'\n",
              "            + ' to learn more about interactive tables.';\n",
              "          element.innerHTML = '';\n",
              "          dataTable['output_type'] = 'display_data';\n",
              "          await google.colab.output.renderOutput(dataTable, element);\n",
              "          const docLink = document.createElement('div');\n",
              "          docLink.innerHTML = docLinkHtml;\n",
              "          element.appendChild(docLink);\n",
              "        }\n",
              "      </script>\n",
              "    </div>\n",
              "  </div>\n",
              "  "
            ],
            "text/plain": [
              "                          Name NetWorth  ...   Age          Industry\n",
              "0                   Jeff Bezos   $177 B  ...  57.0        Technology\n",
              "1                    Elon Musk   $151 B  ...  49.0        Automotive\n",
              "2     Bernard Arnault & family   $150 B  ...  72.0  Fashion & Retail\n",
              "3                   Bill Gates   $124 B  ...  65.0        Technology\n",
              "4              Mark Zuckerberg    $97 B  ...  36.0        Technology\n",
              "...                        ...      ...  ...   ...               ...\n",
              "2750         Daniel Yong Zhang     $1 B  ...  49.0        Technology\n",
              "2751             Zhang Yuqiang     $1 B  ...  65.0     Manufacturing\n",
              "2752             Zhao Meiguang     $1 B  ...  58.0   Metals & Mining\n",
              "2753            Zhong Naixiong     $1 B  ...  58.0       Diversified\n",
              "2754           Zhou Wei family     $1 B  ...  54.0        Technology\n",
              "\n",
              "[2755 rows x 7 columns]"
            ]
          },
          "metadata": {},
          "execution_count": 2
        }
      ]
    },
    {
      "cell_type": "code",
      "metadata": {
        "colab": {
          "base_uri": "https://localhost:8080/",
          "height": 693
        },
        "id": "25ahYofiW7ZO",
        "outputId": "64ce28c6-c149-4483-a0a8-270a790b5874"
      },
      "source": [
        "df = pd.read_csv('forbes_billionaires.csv')\n",
        "df"
      ],
      "execution_count": null,
      "outputs": [
        {
          "output_type": "execute_result",
          "data": {
            "text/html": [
              "\n",
              "  <div id=\"df-bda50be4-2d8f-467c-9bb4-6136896a0951\">\n",
              "    <div class=\"colab-df-container\">\n",
              "      <div>\n",
              "<style scoped>\n",
              "    .dataframe tbody tr th:only-of-type {\n",
              "        vertical-align: middle;\n",
              "    }\n",
              "\n",
              "    .dataframe tbody tr th {\n",
              "        vertical-align: top;\n",
              "    }\n",
              "\n",
              "    .dataframe thead th {\n",
              "        text-align: right;\n",
              "    }\n",
              "</style>\n",
              "<table border=\"1\" class=\"dataframe\">\n",
              "  <thead>\n",
              "    <tr style=\"text-align: right;\">\n",
              "      <th></th>\n",
              "      <th>Name</th>\n",
              "      <th>NetWorth</th>\n",
              "      <th>Country</th>\n",
              "      <th>Source</th>\n",
              "      <th>Rank</th>\n",
              "      <th>Age</th>\n",
              "      <th>Residence</th>\n",
              "      <th>Citizenship</th>\n",
              "      <th>Status</th>\n",
              "      <th>Children</th>\n",
              "      <th>Education</th>\n",
              "      <th>Self_made</th>\n",
              "    </tr>\n",
              "  </thead>\n",
              "  <tbody>\n",
              "    <tr>\n",
              "      <th>0</th>\n",
              "      <td>Jeff Bezos</td>\n",
              "      <td>177.0</td>\n",
              "      <td>United States</td>\n",
              "      <td>Amazon</td>\n",
              "      <td>1</td>\n",
              "      <td>57.0</td>\n",
              "      <td>Seattle, Washington</td>\n",
              "      <td>United States</td>\n",
              "      <td>In Relationship</td>\n",
              "      <td>4.0</td>\n",
              "      <td>Bachelor of Arts/Science, Princeton University</td>\n",
              "      <td>True</td>\n",
              "    </tr>\n",
              "    <tr>\n",
              "      <th>1</th>\n",
              "      <td>Elon Musk</td>\n",
              "      <td>151.0</td>\n",
              "      <td>United States</td>\n",
              "      <td>Tesla, SpaceX</td>\n",
              "      <td>2</td>\n",
              "      <td>49.0</td>\n",
              "      <td>Austin, Texas</td>\n",
              "      <td>United States</td>\n",
              "      <td>In Relationship</td>\n",
              "      <td>7.0</td>\n",
              "      <td>Bachelor of Arts/Science, University of Pennsy...</td>\n",
              "      <td>True</td>\n",
              "    </tr>\n",
              "    <tr>\n",
              "      <th>2</th>\n",
              "      <td>Bernard Arnault &amp; family</td>\n",
              "      <td>150.0</td>\n",
              "      <td>France</td>\n",
              "      <td>LVMH</td>\n",
              "      <td>3</td>\n",
              "      <td>72.0</td>\n",
              "      <td>Paris, France</td>\n",
              "      <td>France</td>\n",
              "      <td>Married</td>\n",
              "      <td>5.0</td>\n",
              "      <td>Bachelor of Arts/Science, Ecole Polytechnique ...</td>\n",
              "      <td>False</td>\n",
              "    </tr>\n",
              "    <tr>\n",
              "      <th>3</th>\n",
              "      <td>Bill Gates</td>\n",
              "      <td>124.0</td>\n",
              "      <td>United States</td>\n",
              "      <td>Microsoft</td>\n",
              "      <td>4</td>\n",
              "      <td>65.0</td>\n",
              "      <td>Medina, Washington</td>\n",
              "      <td>United States</td>\n",
              "      <td>Divorced</td>\n",
              "      <td>3.0</td>\n",
              "      <td>Drop Out, Harvard University</td>\n",
              "      <td>True</td>\n",
              "    </tr>\n",
              "    <tr>\n",
              "      <th>4</th>\n",
              "      <td>Mark Zuckerberg</td>\n",
              "      <td>97.0</td>\n",
              "      <td>United States</td>\n",
              "      <td>Facebook</td>\n",
              "      <td>5</td>\n",
              "      <td>36.0</td>\n",
              "      <td>Palo Alto, California</td>\n",
              "      <td>United States</td>\n",
              "      <td>Married</td>\n",
              "      <td>2.0</td>\n",
              "      <td>Drop Out, Harvard University</td>\n",
              "      <td>True</td>\n",
              "    </tr>\n",
              "    <tr>\n",
              "      <th>...</th>\n",
              "      <td>...</td>\n",
              "      <td>...</td>\n",
              "      <td>...</td>\n",
              "      <td>...</td>\n",
              "      <td>...</td>\n",
              "      <td>...</td>\n",
              "      <td>...</td>\n",
              "      <td>...</td>\n",
              "      <td>...</td>\n",
              "      <td>...</td>\n",
              "      <td>...</td>\n",
              "      <td>...</td>\n",
              "    </tr>\n",
              "    <tr>\n",
              "      <th>2750</th>\n",
              "      <td>Daniel Yong Zhang</td>\n",
              "      <td>1.0</td>\n",
              "      <td>China</td>\n",
              "      <td>e-commerce</td>\n",
              "      <td>2674</td>\n",
              "      <td>49.0</td>\n",
              "      <td>Hangzhou, China</td>\n",
              "      <td>China</td>\n",
              "      <td>NaN</td>\n",
              "      <td>NaN</td>\n",
              "      <td>NaN</td>\n",
              "      <td>True</td>\n",
              "    </tr>\n",
              "    <tr>\n",
              "      <th>2751</th>\n",
              "      <td>Zhang Yuqiang</td>\n",
              "      <td>1.0</td>\n",
              "      <td>China</td>\n",
              "      <td>Fiberglass</td>\n",
              "      <td>2674</td>\n",
              "      <td>65.0</td>\n",
              "      <td>Tongxiang, China</td>\n",
              "      <td>China</td>\n",
              "      <td>NaN</td>\n",
              "      <td>NaN</td>\n",
              "      <td>NaN</td>\n",
              "      <td>True</td>\n",
              "    </tr>\n",
              "    <tr>\n",
              "      <th>2752</th>\n",
              "      <td>Zhao Meiguang</td>\n",
              "      <td>1.0</td>\n",
              "      <td>China</td>\n",
              "      <td>gold mining</td>\n",
              "      <td>2674</td>\n",
              "      <td>58.0</td>\n",
              "      <td>Jilin, China</td>\n",
              "      <td>China</td>\n",
              "      <td>NaN</td>\n",
              "      <td>NaN</td>\n",
              "      <td>NaN</td>\n",
              "      <td>True</td>\n",
              "    </tr>\n",
              "    <tr>\n",
              "      <th>2753</th>\n",
              "      <td>Zhong Naixiong</td>\n",
              "      <td>1.0</td>\n",
              "      <td>China</td>\n",
              "      <td>conglomerate</td>\n",
              "      <td>2674</td>\n",
              "      <td>58.0</td>\n",
              "      <td>Foshan, China</td>\n",
              "      <td>China</td>\n",
              "      <td>NaN</td>\n",
              "      <td>NaN</td>\n",
              "      <td>NaN</td>\n",
              "      <td>True</td>\n",
              "    </tr>\n",
              "    <tr>\n",
              "      <th>2754</th>\n",
              "      <td>Zhou Wei family</td>\n",
              "      <td>1.0</td>\n",
              "      <td>China</td>\n",
              "      <td>Software</td>\n",
              "      <td>2674</td>\n",
              "      <td>54.0</td>\n",
              "      <td>Shanghai, China</td>\n",
              "      <td>China</td>\n",
              "      <td>Married</td>\n",
              "      <td>NaN</td>\n",
              "      <td>NaN</td>\n",
              "      <td>True</td>\n",
              "    </tr>\n",
              "  </tbody>\n",
              "</table>\n",
              "<p>2755 rows × 12 columns</p>\n",
              "</div>\n",
              "      <button class=\"colab-df-convert\" onclick=\"convertToInteractive('df-bda50be4-2d8f-467c-9bb4-6136896a0951')\"\n",
              "              title=\"Convert this dataframe to an interactive table.\"\n",
              "              style=\"display:none;\">\n",
              "        \n",
              "  <svg xmlns=\"http://www.w3.org/2000/svg\" height=\"24px\"viewBox=\"0 0 24 24\"\n",
              "       width=\"24px\">\n",
              "    <path d=\"M0 0h24v24H0V0z\" fill=\"none\"/>\n",
              "    <path d=\"M18.56 5.44l.94 2.06.94-2.06 2.06-.94-2.06-.94-.94-2.06-.94 2.06-2.06.94zm-11 1L8.5 8.5l.94-2.06 2.06-.94-2.06-.94L8.5 2.5l-.94 2.06-2.06.94zm10 10l.94 2.06.94-2.06 2.06-.94-2.06-.94-.94-2.06-.94 2.06-2.06.94z\"/><path d=\"M17.41 7.96l-1.37-1.37c-.4-.4-.92-.59-1.43-.59-.52 0-1.04.2-1.43.59L10.3 9.45l-7.72 7.72c-.78.78-.78 2.05 0 2.83L4 21.41c.39.39.9.59 1.41.59.51 0 1.02-.2 1.41-.59l7.78-7.78 2.81-2.81c.8-.78.8-2.07 0-2.86zM5.41 20L4 18.59l7.72-7.72 1.47 1.35L5.41 20z\"/>\n",
              "  </svg>\n",
              "      </button>\n",
              "      \n",
              "  <style>\n",
              "    .colab-df-container {\n",
              "      display:flex;\n",
              "      flex-wrap:wrap;\n",
              "      gap: 12px;\n",
              "    }\n",
              "\n",
              "    .colab-df-convert {\n",
              "      background-color: #E8F0FE;\n",
              "      border: none;\n",
              "      border-radius: 50%;\n",
              "      cursor: pointer;\n",
              "      display: none;\n",
              "      fill: #1967D2;\n",
              "      height: 32px;\n",
              "      padding: 0 0 0 0;\n",
              "      width: 32px;\n",
              "    }\n",
              "\n",
              "    .colab-df-convert:hover {\n",
              "      background-color: #E2EBFA;\n",
              "      box-shadow: 0px 1px 2px rgba(60, 64, 67, 0.3), 0px 1px 3px 1px rgba(60, 64, 67, 0.15);\n",
              "      fill: #174EA6;\n",
              "    }\n",
              "\n",
              "    [theme=dark] .colab-df-convert {\n",
              "      background-color: #3B4455;\n",
              "      fill: #D2E3FC;\n",
              "    }\n",
              "\n",
              "    [theme=dark] .colab-df-convert:hover {\n",
              "      background-color: #434B5C;\n",
              "      box-shadow: 0px 1px 3px 1px rgba(0, 0, 0, 0.15);\n",
              "      filter: drop-shadow(0px 1px 2px rgba(0, 0, 0, 0.3));\n",
              "      fill: #FFFFFF;\n",
              "    }\n",
              "  </style>\n",
              "\n",
              "      <script>\n",
              "        const buttonEl =\n",
              "          document.querySelector('#df-bda50be4-2d8f-467c-9bb4-6136896a0951 button.colab-df-convert');\n",
              "        buttonEl.style.display =\n",
              "          google.colab.kernel.accessAllowed ? 'block' : 'none';\n",
              "\n",
              "        async function convertToInteractive(key) {\n",
              "          const element = document.querySelector('#df-bda50be4-2d8f-467c-9bb4-6136896a0951');\n",
              "          const dataTable =\n",
              "            await google.colab.kernel.invokeFunction('convertToInteractive',\n",
              "                                                     [key], {});\n",
              "          if (!dataTable) return;\n",
              "\n",
              "          const docLinkHtml = 'Like what you see? Visit the ' +\n",
              "            '<a target=\"_blank\" href=https://colab.research.google.com/notebooks/data_table.ipynb>data table notebook</a>'\n",
              "            + ' to learn more about interactive tables.';\n",
              "          element.innerHTML = '';\n",
              "          dataTable['output_type'] = 'display_data';\n",
              "          await google.colab.output.renderOutput(dataTable, element);\n",
              "          const docLink = document.createElement('div');\n",
              "          docLink.innerHTML = docLinkHtml;\n",
              "          element.appendChild(docLink);\n",
              "        }\n",
              "      </script>\n",
              "    </div>\n",
              "  </div>\n",
              "  "
            ],
            "text/plain": [
              "                          Name  ...  Self_made\n",
              "0                   Jeff Bezos  ...       True\n",
              "1                    Elon Musk  ...       True\n",
              "2     Bernard Arnault & family  ...      False\n",
              "3                   Bill Gates  ...       True\n",
              "4              Mark Zuckerberg  ...       True\n",
              "...                        ...  ...        ...\n",
              "2750         Daniel Yong Zhang  ...       True\n",
              "2751             Zhang Yuqiang  ...       True\n",
              "2752             Zhao Meiguang  ...       True\n",
              "2753            Zhong Naixiong  ...       True\n",
              "2754           Zhou Wei family  ...       True\n",
              "\n",
              "[2755 rows x 12 columns]"
            ]
          },
          "metadata": {},
          "execution_count": 3
        }
      ]
    },
    {
      "cell_type": "markdown",
      "source": [
        "# Basic Information"
      ],
      "metadata": {
        "id": "OkvnC8UdWVYp"
      }
    },
    {
      "cell_type": "code",
      "metadata": {
        "colab": {
          "base_uri": "https://localhost:8080/"
        },
        "id": "AWbmQqGGXdVy",
        "outputId": "10960a2a-69de-497d-db56-515f7026b6f6"
      },
      "source": [
        "df.info()"
      ],
      "execution_count": null,
      "outputs": [
        {
          "output_type": "stream",
          "name": "stdout",
          "text": [
            "<class 'pandas.core.frame.DataFrame'>\n",
            "RangeIndex: 2755 entries, 0 to 2754\n",
            "Data columns (total 12 columns):\n",
            " #   Column       Non-Null Count  Dtype  \n",
            "---  ------       --------------  -----  \n",
            " 0   Name         2755 non-null   object \n",
            " 1   NetWorth     2755 non-null   float64\n",
            " 2   Country      2755 non-null   object \n",
            " 3   Source       2755 non-null   object \n",
            " 4   Rank         2755 non-null   int64  \n",
            " 5   Age          2630 non-null   float64\n",
            " 6   Residence    2715 non-null   object \n",
            " 7   Citizenship  2739 non-null   object \n",
            " 8   Status       2090 non-null   object \n",
            " 9   Children     1552 non-null   float64\n",
            " 10  Education    1409 non-null   object \n",
            " 11  Self_made    2737 non-null   object \n",
            "dtypes: float64(3), int64(1), object(8)\n",
            "memory usage: 258.4+ KB\n"
          ]
        }
      ]
    },
    {
      "cell_type": "code",
      "metadata": {
        "colab": {
          "base_uri": "https://localhost:8080/",
          "height": 300
        },
        "id": "1BaoDcLNX1Os",
        "outputId": "f1d08c0b-b0ec-49f6-fb19-f7f9b82275dc"
      },
      "source": [
        "df.describe()"
      ],
      "execution_count": null,
      "outputs": [
        {
          "output_type": "execute_result",
          "data": {
            "text/html": [
              "<div>\n",
              "<style scoped>\n",
              "    .dataframe tbody tr th:only-of-type {\n",
              "        vertical-align: middle;\n",
              "    }\n",
              "\n",
              "    .dataframe tbody tr th {\n",
              "        vertical-align: top;\n",
              "    }\n",
              "\n",
              "    .dataframe thead th {\n",
              "        text-align: right;\n",
              "    }\n",
              "</style>\n",
              "<table border=\"1\" class=\"dataframe\">\n",
              "  <thead>\n",
              "    <tr style=\"text-align: right;\">\n",
              "      <th></th>\n",
              "      <th>NetWorth</th>\n",
              "      <th>Rank</th>\n",
              "      <th>Age</th>\n",
              "      <th>Children</th>\n",
              "    </tr>\n",
              "  </thead>\n",
              "  <tbody>\n",
              "    <tr>\n",
              "      <th>count</th>\n",
              "      <td>2755.000000</td>\n",
              "      <td>2755.000000</td>\n",
              "      <td>2630.00000</td>\n",
              "      <td>1552.000000</td>\n",
              "    </tr>\n",
              "    <tr>\n",
              "      <th>mean</th>\n",
              "      <td>4.749220</td>\n",
              "      <td>1345.663521</td>\n",
              "      <td>63.26730</td>\n",
              "      <td>2.978093</td>\n",
              "    </tr>\n",
              "    <tr>\n",
              "      <th>std</th>\n",
              "      <td>9.615358</td>\n",
              "      <td>772.669811</td>\n",
              "      <td>13.47916</td>\n",
              "      <td>1.618569</td>\n",
              "    </tr>\n",
              "    <tr>\n",
              "      <th>min</th>\n",
              "      <td>1.000000</td>\n",
              "      <td>1.000000</td>\n",
              "      <td>18.00000</td>\n",
              "      <td>1.000000</td>\n",
              "    </tr>\n",
              "    <tr>\n",
              "      <th>25%</th>\n",
              "      <td>1.500000</td>\n",
              "      <td>680.000000</td>\n",
              "      <td>54.00000</td>\n",
              "      <td>2.000000</td>\n",
              "    </tr>\n",
              "    <tr>\n",
              "      <th>50%</th>\n",
              "      <td>2.300000</td>\n",
              "      <td>1362.000000</td>\n",
              "      <td>63.00000</td>\n",
              "      <td>3.000000</td>\n",
              "    </tr>\n",
              "    <tr>\n",
              "      <th>75%</th>\n",
              "      <td>4.200000</td>\n",
              "      <td>2035.000000</td>\n",
              "      <td>73.00000</td>\n",
              "      <td>4.000000</td>\n",
              "    </tr>\n",
              "    <tr>\n",
              "      <th>max</th>\n",
              "      <td>177.000000</td>\n",
              "      <td>2674.000000</td>\n",
              "      <td>99.00000</td>\n",
              "      <td>23.000000</td>\n",
              "    </tr>\n",
              "  </tbody>\n",
              "</table>\n",
              "</div>"
            ],
            "text/plain": [
              "          NetWorth         Rank         Age     Children\n",
              "count  2755.000000  2755.000000  2630.00000  1552.000000\n",
              "mean      4.749220  1345.663521    63.26730     2.978093\n",
              "std       9.615358   772.669811    13.47916     1.618569\n",
              "min       1.000000     1.000000    18.00000     1.000000\n",
              "25%       1.500000   680.000000    54.00000     2.000000\n",
              "50%       2.300000  1362.000000    63.00000     3.000000\n",
              "75%       4.200000  2035.000000    73.00000     4.000000\n",
              "max     177.000000  2674.000000    99.00000    23.000000"
            ]
          },
          "metadata": {},
          "execution_count": 5
        }
      ]
    },
    {
      "cell_type": "markdown",
      "source": [
        "# Missing Values"
      ],
      "metadata": {
        "id": "UDJFUTbN74NA"
      }
    },
    {
      "cell_type": "code",
      "metadata": {
        "colab": {
          "base_uri": "https://localhost:8080/"
        },
        "id": "vtrXzX03YUGL",
        "outputId": "e422aa4c-2a7b-46bb-fe34-ded2ed08deae"
      },
      "source": [
        "missing_values = df.isnull().sum().values\n",
        "missing_values_labels = df.isnull().sum().index\n",
        "df.isnull().sum()"
      ],
      "execution_count": null,
      "outputs": [
        {
          "output_type": "execute_result",
          "data": {
            "text/plain": [
              "Name              0\n",
              "NetWorth          0\n",
              "Country           0\n",
              "Source            0\n",
              "Rank              0\n",
              "Age             125\n",
              "Residence        40\n",
              "Citizenship      16\n",
              "Status          665\n",
              "Children       1203\n",
              "Education      1346\n",
              "Self_made        18\n",
              "dtype: int64"
            ]
          },
          "metadata": {},
          "execution_count": 7
        }
      ]
    },
    {
      "cell_type": "code",
      "source": [
        "plt.figure(figsize = (15,5))\n",
        "plt.bar(missing_values_labels, missing_values, color = 'brown')\n",
        "plt.title('Missing values in the dataset')\n",
        "plt.xlabel('Columns')\n",
        "plt.ylabel('No. of missing values')\n",
        "# plt.savefig(\"missing values.png\")\n",
        "# files.download(\"missing values.png\")\n",
        "plt.show()"
      ],
      "metadata": {
        "colab": {
          "base_uri": "https://localhost:8080/",
          "height": 351
        },
        "id": "pcAI9R6P9AkB",
        "outputId": "415baf7d-c17c-4220-ffc1-abd970b3f576"
      },
      "execution_count": null,
      "outputs": [
        {
          "output_type": "display_data",
          "data": {
            "image/png": "[encoded data removed]",
            "text/plain": [
              "<Figure size 1080x360 with 1 Axes>"
            ]
          },
          "metadata": {
            "needs_background": "light"
          }
        }
      ]
    },
    {
      "cell_type": "markdown",
      "source": [
        "\n",
        "\n",
        "    The dataset has quite many missing values in some columns - \n",
        "\n",
        "        Education\n",
        "        Children\n",
        "        Status\n",
        "        Age\n",
        "        Residence\n",
        "        Self_made\n",
        "        Citizenship"
      ],
      "metadata": {
        "id": "mwuQNCiA771O"
      }
    },
    {
      "cell_type": "markdown",
      "source": [
        "# Handling Missing Values\n",
        "Replacing missing values from another dataset."
      ],
      "metadata": {
        "id": "D3x94iXxPO_q"
      }
    },
    {
      "cell_type": "code",
      "source": [
        "df['Industry'] = data[data['Name'] == df['Name']]['Industry']         \n",
        "df.Industry.isnull().sum()"
      ],
      "metadata": {
        "colab": {
          "base_uri": "https://localhost:8080/"
        },
        "id": "NSFB5lm-Ou_C",
        "outputId": "d3cdf1f4-4976-42f5-8cd0-6c6af89b0629"
      },
      "execution_count": null,
      "outputs": [
        {
          "output_type": "execute_result",
          "data": {
            "text/plain": [
              "0"
            ]
          },
          "metadata": {},
          "execution_count": 17
        }
      ]
    },
    {
      "cell_type": "code",
      "source": [
        "df['Age'] = data[data['Name'] == df['Name']]['Age']\n",
        "df.isnull().Age.sum()"
      ],
      "metadata": {
        "colab": {
          "base_uri": "https://localhost:8080/"
        },
        "id": "-l-Qt9gfQ8mL",
        "outputId": "cd6df9e2-2c44-4c9f-c72c-3c6b4c495141"
      },
      "execution_count": null,
      "outputs": [
        {
          "output_type": "execute_result",
          "data": {
            "text/plain": [
              "79"
            ]
          },
          "metadata": {},
          "execution_count": 18
        }
      ]
    },
    {
      "cell_type": "code",
      "source": [
        "df[df.Age.isnull()]"
      ],
      "metadata": {
        "colab": {
          "base_uri": "https://localhost:8080/",
          "height": 580
        },
        "id": "ZZOv8p7CSl-6",
        "outputId": "cfc9e3a2-beb1-453a-b990-ea7d81d44df7"
      },
      "execution_count": null,
      "outputs": [
        {
          "output_type": "execute_result",
          "data": {
            "text/html": [
              "<div>\n",
              "<style scoped>\n",
              "    .dataframe tbody tr th:only-of-type {\n",
              "        vertical-align: middle;\n",
              "    }\n",
              "\n",
              "    .dataframe tbody tr th {\n",
              "        vertical-align: top;\n",
              "    }\n",
              "\n",
              "    .dataframe thead th {\n",
              "        text-align: right;\n",
              "    }\n",
              "</style>\n",
              "<table border=\"1\" class=\"dataframe\">\n",
              "  <thead>\n",
              "    <tr style=\"text-align: right;\">\n",
              "      <th></th>\n",
              "      <th>Name</th>\n",
              "      <th>NetWorth</th>\n",
              "      <th>Country</th>\n",
              "      <th>Source</th>\n",
              "      <th>Rank</th>\n",
              "      <th>Age</th>\n",
              "      <th>Residence</th>\n",
              "      <th>Citizenship</th>\n",
              "      <th>Status</th>\n",
              "      <th>Children</th>\n",
              "      <th>Education</th>\n",
              "      <th>Self_made</th>\n",
              "      <th>Industry</th>\n",
              "    </tr>\n",
              "  </thead>\n",
              "  <tbody>\n",
              "    <tr>\n",
              "      <th>132</th>\n",
              "      <td>Hinduja brothers</td>\n",
              "      <td>14.9</td>\n",
              "      <td>United Kingdom</td>\n",
              "      <td>diversified</td>\n",
              "      <td>133</td>\n",
              "      <td>NaN</td>\n",
              "      <td>London, United Kingdom</td>\n",
              "      <td>United Kingdom</td>\n",
              "      <td>NaN</td>\n",
              "      <td>NaN</td>\n",
              "      <td>NaN</td>\n",
              "      <td>False</td>\n",
              "      <td>Diversified</td>\n",
              "    </tr>\n",
              "    <tr>\n",
              "      <th>255</th>\n",
              "      <td>Lam Wai-ying</td>\n",
              "      <td>9.1</td>\n",
              "      <td>Hong Kong</td>\n",
              "      <td>smartphone screens</td>\n",
              "      <td>256</td>\n",
              "      <td>NaN</td>\n",
              "      <td>Hong Kong, Hong Kong</td>\n",
              "      <td>Hong Kong</td>\n",
              "      <td>Married</td>\n",
              "      <td>NaN</td>\n",
              "      <td>NaN</td>\n",
              "      <td>True</td>\n",
              "      <td>Manufacturing</td>\n",
              "    </tr>\n",
              "    <tr>\n",
              "      <th>268</th>\n",
              "      <td>Chan Tan Ching-fen</td>\n",
              "      <td>8.8</td>\n",
              "      <td>Hong Kong</td>\n",
              "      <td>real estate</td>\n",
              "      <td>269</td>\n",
              "      <td>NaN</td>\n",
              "      <td>Hong Kong, Hong Kong</td>\n",
              "      <td>Hong Kong</td>\n",
              "      <td>Widowed</td>\n",
              "      <td>2.0</td>\n",
              "      <td>NaN</td>\n",
              "      <td>False</td>\n",
              "      <td>Real Estate</td>\n",
              "    </tr>\n",
              "    <tr>\n",
              "      <th>285</th>\n",
              "      <td>Anthony von Mandl</td>\n",
              "      <td>8.7</td>\n",
              "      <td>Canada</td>\n",
              "      <td>alcoholic beverages</td>\n",
              "      <td>274</td>\n",
              "      <td>NaN</td>\n",
              "      <td>Vancouver, Canada</td>\n",
              "      <td>Canada</td>\n",
              "      <td>NaN</td>\n",
              "      <td>NaN</td>\n",
              "      <td>Bachelor of Arts/Science, University of Britis...</td>\n",
              "      <td>True</td>\n",
              "      <td>Food &amp; Beverage</td>\n",
              "    </tr>\n",
              "    <tr>\n",
              "      <th>294</th>\n",
              "      <td>Kuldip Singh &amp; Gurbachan Singh Dhingra</td>\n",
              "      <td>8.4</td>\n",
              "      <td>India</td>\n",
              "      <td>paints</td>\n",
              "      <td>294</td>\n",
              "      <td>NaN</td>\n",
              "      <td>Delhi, India</td>\n",
              "      <td>India</td>\n",
              "      <td>Married</td>\n",
              "      <td>NaN</td>\n",
              "      <td>Bachelor of Arts/Science, Delhi University</td>\n",
              "      <td>True</td>\n",
              "      <td>Manufacturing</td>\n",
              "    </tr>\n",
              "    <tr>\n",
              "      <th>...</th>\n",
              "      <td>...</td>\n",
              "      <td>...</td>\n",
              "      <td>...</td>\n",
              "      <td>...</td>\n",
              "      <td>...</td>\n",
              "      <td>...</td>\n",
              "      <td>...</td>\n",
              "      <td>...</td>\n",
              "      <td>...</td>\n",
              "      <td>...</td>\n",
              "      <td>...</td>\n",
              "      <td>...</td>\n",
              "      <td>...</td>\n",
              "    </tr>\n",
              "    <tr>\n",
              "      <th>2580</th>\n",
              "      <td>Lai Baosheng</td>\n",
              "      <td>1.1</td>\n",
              "      <td>China</td>\n",
              "      <td>consumer technology</td>\n",
              "      <td>2524</td>\n",
              "      <td>NaN</td>\n",
              "      <td>Shenzhen, China</td>\n",
              "      <td>China</td>\n",
              "      <td>NaN</td>\n",
              "      <td>NaN</td>\n",
              "      <td>NaN</td>\n",
              "      <td>True</td>\n",
              "      <td>Technology</td>\n",
              "    </tr>\n",
              "    <tr>\n",
              "      <th>2639</th>\n",
              "      <td>Tseng Sing-ai</td>\n",
              "      <td>1.1</td>\n",
              "      <td>Taiwan</td>\n",
              "      <td>petrochemicals</td>\n",
              "      <td>2524</td>\n",
              "      <td>NaN</td>\n",
              "      <td>Taiwan</td>\n",
              "      <td>Taiwan</td>\n",
              "      <td>NaN</td>\n",
              "      <td>NaN</td>\n",
              "      <td>NaN</td>\n",
              "      <td>False</td>\n",
              "      <td>Manufacturing</td>\n",
              "    </tr>\n",
              "    <tr>\n",
              "      <th>2680</th>\n",
              "      <td>Carmen Daurella Aguilera</td>\n",
              "      <td>1.0</td>\n",
              "      <td>Spain</td>\n",
              "      <td>Coca-Cola bottler</td>\n",
              "      <td>2674</td>\n",
              "      <td>NaN</td>\n",
              "      <td>Barcelona, Spain</td>\n",
              "      <td>Spain</td>\n",
              "      <td>Separated</td>\n",
              "      <td>NaN</td>\n",
              "      <td>NaN</td>\n",
              "      <td>False</td>\n",
              "      <td>Food &amp; Beverage</td>\n",
              "    </tr>\n",
              "    <tr>\n",
              "      <th>2714</th>\n",
              "      <td>Michael McCain</td>\n",
              "      <td>1.0</td>\n",
              "      <td>Canada</td>\n",
              "      <td>packaged meats</td>\n",
              "      <td>2674</td>\n",
              "      <td>NaN</td>\n",
              "      <td>NaN</td>\n",
              "      <td>NaN</td>\n",
              "      <td>NaN</td>\n",
              "      <td>NaN</td>\n",
              "      <td>NaN</td>\n",
              "      <td>NaN</td>\n",
              "      <td>Food &amp; Beverage</td>\n",
              "    </tr>\n",
              "    <tr>\n",
              "      <th>2720</th>\n",
              "      <td>Maria Pinheiro</td>\n",
              "      <td>1.0</td>\n",
              "      <td>Brazil</td>\n",
              "      <td>supermarkets</td>\n",
              "      <td>2674</td>\n",
              "      <td>NaN</td>\n",
              "      <td>Balsas, Brazil</td>\n",
              "      <td>Brazil</td>\n",
              "      <td>Divorced</td>\n",
              "      <td>NaN</td>\n",
              "      <td>NaN</td>\n",
              "      <td>True</td>\n",
              "      <td>Fashion &amp; Retail</td>\n",
              "    </tr>\n",
              "  </tbody>\n",
              "</table>\n",
              "<p>79 rows × 13 columns</p>\n",
              "</div>"
            ],
            "text/plain": [
              "                                        Name  ...          Industry\n",
              "132                         Hinduja brothers  ...       Diversified\n",
              "255                             Lam Wai-ying  ...     Manufacturing\n",
              "268                       Chan Tan Ching-fen  ...       Real Estate\n",
              "285                        Anthony von Mandl  ...   Food & Beverage\n",
              "294   Kuldip Singh & Gurbachan Singh Dhingra  ...     Manufacturing\n",
              "...                                      ...  ...               ...\n",
              "2580                            Lai Baosheng  ...        Technology\n",
              "2639                           Tseng Sing-ai  ...     Manufacturing\n",
              "2680                Carmen Daurella Aguilera  ...   Food & Beverage\n",
              "2714                          Michael McCain  ...   Food & Beverage\n",
              "2720                          Maria Pinheiro  ...  Fashion & Retail\n",
              "\n",
              "[79 rows x 13 columns]"
            ]
          },
          "metadata": {},
          "execution_count": 10
        }
      ]
    },
    {
      "cell_type": "markdown",
      "source": [
        "# Country"
      ],
      "metadata": {
        "id": "EFkJAWUC43Q8"
      }
    },
    {
      "cell_type": "markdown",
      "source": [
        "### Top 10 countries with most billionares"
      ],
      "metadata": {
        "id": "LKPrDfoKHnTn"
      }
    },
    {
      "cell_type": "code",
      "metadata": {
        "colab": {
          "base_uri": "https://localhost:8080/"
        },
        "id": "Xumqzm0QYerm",
        "outputId": "ddb7926c-6f9e-473e-e8ac-d70713054222"
      },
      "source": [
        "top_10_countries = df.Country.value_counts().head(10).index\n",
        "top_10_countries_count = df.Country.value_counts().head(10).values\n",
        "df.Country.value_counts()\n"
      ],
      "execution_count": null,
      "outputs": [
        {
          "output_type": "execute_result",
          "data": {
            "text/plain": [
              "United States    724\n",
              "China            626\n",
              "India            140\n",
              "Germany          136\n",
              "Russia           118\n",
              "                ... \n",
              "Macao              1\n",
              "Oman               1\n",
              "Nepal              1\n",
              "Liechtenstein      1\n",
              "Algeria            1\n",
              "Name: Country, Length: 70, dtype: int64"
            ]
          },
          "metadata": {},
          "execution_count": 19
        }
      ]
    },
    {
      "cell_type": "code",
      "source": [
        "plt.figure(figsize = (9,9))\n",
        "total = sum(top_10_countries_count)\n",
        "plt.pie(top_10_countries_count,labels =  top_10_countries, shadow=True , autopct = '%1.1f%%' )\n",
        "plt.title('Top 10 countries with most billionaires')\n",
        "# plt.savefig(\"Top 10 countries with most billionaires.png\")\n",
        "# files.download(\"Top 10 countries with most billionaires.png\")\n",
        "plt.show()"
      ],
      "metadata": {
        "colab": {
          "base_uri": "https://localhost:8080/",
          "height": 536
        },
        "id": "7XYn95n070ww",
        "outputId": "25a06a63-c4e9-4f97-ab0d-c55f923e5f60"
      },
      "execution_count": null,
      "outputs": [
        {
          "output_type": "display_data",
          "data": {
            "image/png": "[encoded data removed]",
            "text/plain": [
              "<Figure size 648x648 with 1 Axes>"
            ]
          },
          "metadata": {}
        }
      ]
    },
    {
      "cell_type": "markdown",
      "source": [
        "\n",
        "\n",
        "\n",
        "      Top 5 countries producing most billionaires :\n",
        "\n",
        "      1. USA\n",
        "      2. China\n",
        "      3. India\n",
        "      4. Germany\n",
        "      5. Russia"
      ],
      "metadata": {
        "id": "m5eCuuBDXOJs"
      }
    },
    {
      "cell_type": "markdown",
      "source": [
        "### Indian Billionaires"
      ],
      "metadata": {
        "id": "qCYQ1JxK5wFf"
      }
    },
    {
      "cell_type": "code",
      "source": [
        "indian_df = df[df['Country'] == 'India']\n",
        "indian_df"
      ],
      "metadata": {
        "colab": {
          "base_uri": "https://localhost:8080/",
          "height": 814
        },
        "id": "5Y_zIKJZ45dk",
        "outputId": "de759b8d-aa5b-4d16-e46c-adec9d9bd703"
      },
      "execution_count": null,
      "outputs": [
        {
          "output_type": "execute_result",
          "data": {
            "text/html": [
              "\n",
              "  <div id=\"df-856b248c-21d1-46a9-b623-d0bf4a78b8e6\">\n",
              "    <div class=\"colab-df-container\">\n",
              "      <div>\n",
              "<style scoped>\n",
              "    .dataframe tbody tr th:only-of-type {\n",
              "        vertical-align: middle;\n",
              "    }\n",
              "\n",
              "    .dataframe tbody tr th {\n",
              "        vertical-align: top;\n",
              "    }\n",
              "\n",
              "    .dataframe thead th {\n",
              "        text-align: right;\n",
              "    }\n",
              "</style>\n",
              "<table border=\"1\" class=\"dataframe\">\n",
              "  <thead>\n",
              "    <tr style=\"text-align: right;\">\n",
              "      <th></th>\n",
              "      <th>Name</th>\n",
              "      <th>NetWorth</th>\n",
              "      <th>Country</th>\n",
              "      <th>Source</th>\n",
              "      <th>Rank</th>\n",
              "      <th>Age</th>\n",
              "      <th>Residence</th>\n",
              "      <th>Citizenship</th>\n",
              "      <th>Status</th>\n",
              "      <th>Children</th>\n",
              "      <th>Education</th>\n",
              "      <th>Self_made</th>\n",
              "      <th>Industry</th>\n",
              "    </tr>\n",
              "  </thead>\n",
              "  <tbody>\n",
              "    <tr>\n",
              "      <th>9</th>\n",
              "      <td>Mukesh Ambani</td>\n",
              "      <td>84.5</td>\n",
              "      <td>India</td>\n",
              "      <td>diversified</td>\n",
              "      <td>10</td>\n",
              "      <td>63.0</td>\n",
              "      <td>Mumbai, India</td>\n",
              "      <td>India</td>\n",
              "      <td>Married</td>\n",
              "      <td>3.0</td>\n",
              "      <td>Drop Out, Stanford University; Bachelor of Sci...</td>\n",
              "      <td>False</td>\n",
              "      <td>Diversified</td>\n",
              "    </tr>\n",
              "    <tr>\n",
              "      <th>23</th>\n",
              "      <td>Gautam Adani &amp; family</td>\n",
              "      <td>50.5</td>\n",
              "      <td>India</td>\n",
              "      <td>infrastructure, commodities</td>\n",
              "      <td>24</td>\n",
              "      <td>58.0</td>\n",
              "      <td>Ahmedabad, India</td>\n",
              "      <td>India</td>\n",
              "      <td>Married</td>\n",
              "      <td>2.0</td>\n",
              "      <td>NaN</td>\n",
              "      <td>True</td>\n",
              "      <td>Diversified</td>\n",
              "    </tr>\n",
              "    <tr>\n",
              "      <th>71</th>\n",
              "      <td>Shiv Nadar</td>\n",
              "      <td>23.5</td>\n",
              "      <td>India</td>\n",
              "      <td>software services</td>\n",
              "      <td>71</td>\n",
              "      <td>75.0</td>\n",
              "      <td>Delhi, India</td>\n",
              "      <td>India</td>\n",
              "      <td>Married</td>\n",
              "      <td>1.0</td>\n",
              "      <td>Bachelor of Arts/Science, PSG College of Techn...</td>\n",
              "      <td>True</td>\n",
              "      <td>Technology</td>\n",
              "    </tr>\n",
              "    <tr>\n",
              "      <th>116</th>\n",
              "      <td>Radhakishan Damani</td>\n",
              "      <td>16.5</td>\n",
              "      <td>India</td>\n",
              "      <td>retail, investments</td>\n",
              "      <td>117</td>\n",
              "      <td>66.0</td>\n",
              "      <td>Mumbai, India</td>\n",
              "      <td>India</td>\n",
              "      <td>Married</td>\n",
              "      <td>3.0</td>\n",
              "      <td>NaN</td>\n",
              "      <td>True</td>\n",
              "      <td>Fashion &amp; Retail</td>\n",
              "    </tr>\n",
              "    <tr>\n",
              "      <th>122</th>\n",
              "      <td>Uday Kotak</td>\n",
              "      <td>15.9</td>\n",
              "      <td>India</td>\n",
              "      <td>banking</td>\n",
              "      <td>121</td>\n",
              "      <td>62.0</td>\n",
              "      <td>Mumbai, India</td>\n",
              "      <td>India</td>\n",
              "      <td>Married</td>\n",
              "      <td>2.0</td>\n",
              "      <td>Bachelor of Arts/Science, Bombay University; M...</td>\n",
              "      <td>True</td>\n",
              "      <td>Finance &amp; Investments</td>\n",
              "    </tr>\n",
              "    <tr>\n",
              "      <th>...</th>\n",
              "      <td>...</td>\n",
              "      <td>...</td>\n",
              "      <td>...</td>\n",
              "      <td>...</td>\n",
              "      <td>...</td>\n",
              "      <td>...</td>\n",
              "      <td>...</td>\n",
              "      <td>...</td>\n",
              "      <td>...</td>\n",
              "      <td>...</td>\n",
              "      <td>...</td>\n",
              "      <td>...</td>\n",
              "      <td>...</td>\n",
              "    </tr>\n",
              "    <tr>\n",
              "      <th>2683</th>\n",
              "      <td>Ramesh Kumar Dua</td>\n",
              "      <td>1.0</td>\n",
              "      <td>India</td>\n",
              "      <td>footwear</td>\n",
              "      <td>2674</td>\n",
              "      <td>67.0</td>\n",
              "      <td>Delhi, India</td>\n",
              "      <td>India</td>\n",
              "      <td>Married</td>\n",
              "      <td>3.0</td>\n",
              "      <td>NaN</td>\n",
              "      <td>True</td>\n",
              "      <td>Fashion &amp; Retail</td>\n",
              "    </tr>\n",
              "    <tr>\n",
              "      <th>2698</th>\n",
              "      <td>Ashok Kajaria</td>\n",
              "      <td>1.0</td>\n",
              "      <td>India</td>\n",
              "      <td>tiles</td>\n",
              "      <td>2674</td>\n",
              "      <td>73.0</td>\n",
              "      <td>Delhi, India</td>\n",
              "      <td>India</td>\n",
              "      <td>Married</td>\n",
              "      <td>2.0</td>\n",
              "      <td>Bachelor of Science in Engineering, UCLA</td>\n",
              "      <td>True</td>\n",
              "      <td>Manufacturing</td>\n",
              "    </tr>\n",
              "    <tr>\n",
              "      <th>2699</th>\n",
              "      <td>T.S. Kalyanaraman</td>\n",
              "      <td>1.0</td>\n",
              "      <td>India</td>\n",
              "      <td>jewelry</td>\n",
              "      <td>2674</td>\n",
              "      <td>73.0</td>\n",
              "      <td>Thrissur, India</td>\n",
              "      <td>India</td>\n",
              "      <td>Married</td>\n",
              "      <td>3.0</td>\n",
              "      <td>NaN</td>\n",
              "      <td>True</td>\n",
              "      <td>Fashion &amp; Retail</td>\n",
              "    </tr>\n",
              "    <tr>\n",
              "      <th>2712</th>\n",
              "      <td>Rafique Malik</td>\n",
              "      <td>1.0</td>\n",
              "      <td>India</td>\n",
              "      <td>footwear</td>\n",
              "      <td>2674</td>\n",
              "      <td>70.0</td>\n",
              "      <td>Mumbai, India</td>\n",
              "      <td>India</td>\n",
              "      <td>Married</td>\n",
              "      <td>5.0</td>\n",
              "      <td>NaN</td>\n",
              "      <td>False</td>\n",
              "      <td>Fashion &amp; Retail</td>\n",
              "    </tr>\n",
              "    <tr>\n",
              "      <th>2715</th>\n",
              "      <td>Mofatraj Munot</td>\n",
              "      <td>1.0</td>\n",
              "      <td>India</td>\n",
              "      <td>real estate</td>\n",
              "      <td>2674</td>\n",
              "      <td>76.0</td>\n",
              "      <td>Mumbai, India</td>\n",
              "      <td>India</td>\n",
              "      <td>Widowed</td>\n",
              "      <td>3.0</td>\n",
              "      <td>NaN</td>\n",
              "      <td>True</td>\n",
              "      <td>Real Estate</td>\n",
              "    </tr>\n",
              "  </tbody>\n",
              "</table>\n",
              "<p>140 rows × 13 columns</p>\n",
              "</div>\n",
              "      <button class=\"colab-df-convert\" onclick=\"convertToInteractive('df-856b248c-21d1-46a9-b623-d0bf4a78b8e6')\"\n",
              "              title=\"Convert this dataframe to an interactive table.\"\n",
              "              style=\"display:none;\">\n",
              "        \n",
              "  <svg xmlns=\"http://www.w3.org/2000/svg\" height=\"24px\"viewBox=\"0 0 24 24\"\n",
              "       width=\"24px\">\n",
              "    <path d=\"M0 0h24v24H0V0z\" fill=\"none\"/>\n",
              "    <path d=\"M18.56 5.44l.94 2.06.94-2.06 2.06-.94-2.06-.94-.94-2.06-.94 2.06-2.06.94zm-11 1L8.5 8.5l.94-2.06 2.06-.94-2.06-.94L8.5 2.5l-.94 2.06-2.06.94zm10 10l.94 2.06.94-2.06 2.06-.94-2.06-.94-.94-2.06-.94 2.06-2.06.94z\"/><path d=\"M17.41 7.96l-1.37-1.37c-.4-.4-.92-.59-1.43-.59-.52 0-1.04.2-1.43.59L10.3 9.45l-7.72 7.72c-.78.78-.78 2.05 0 2.83L4 21.41c.39.39.9.59 1.41.59.51 0 1.02-.2 1.41-.59l7.78-7.78 2.81-2.81c.8-.78.8-2.07 0-2.86zM5.41 20L4 18.59l7.72-7.72 1.47 1.35L5.41 20z\"/>\n",
              "  </svg>\n",
              "      </button>\n",
              "      \n",
              "  <style>\n",
              "    .colab-df-container {\n",
              "      display:flex;\n",
              "      flex-wrap:wrap;\n",
              "      gap: 12px;\n",
              "    }\n",
              "\n",
              "    .colab-df-convert {\n",
              "      background-color: #E8F0FE;\n",
              "      border: none;\n",
              "      border-radius: 50%;\n",
              "      cursor: pointer;\n",
              "      display: none;\n",
              "      fill: #1967D2;\n",
              "      height: 32px;\n",
              "      padding: 0 0 0 0;\n",
              "      width: 32px;\n",
              "    }\n",
              "\n",
              "    .colab-df-convert:hover {\n",
              "      background-color: #E2EBFA;\n",
              "      box-shadow: 0px 1px 2px rgba(60, 64, 67, 0.3), 0px 1px 3px 1px rgba(60, 64, 67, 0.15);\n",
              "      fill: #174EA6;\n",
              "    }\n",
              "\n",
              "    [theme=dark] .colab-df-convert {\n",
              "      background-color: #3B4455;\n",
              "      fill: #D2E3FC;\n",
              "    }\n",
              "\n",
              "    [theme=dark] .colab-df-convert:hover {\n",
              "      background-color: #434B5C;\n",
              "      box-shadow: 0px 1px 3px 1px rgba(0, 0, 0, 0.15);\n",
              "      filter: drop-shadow(0px 1px 2px rgba(0, 0, 0, 0.3));\n",
              "      fill: #FFFFFF;\n",
              "    }\n",
              "  </style>\n",
              "\n",
              "      <script>\n",
              "        const buttonEl =\n",
              "          document.querySelector('#df-856b248c-21d1-46a9-b623-d0bf4a78b8e6 button.colab-df-convert');\n",
              "        buttonEl.style.display =\n",
              "          google.colab.kernel.accessAllowed ? 'block' : 'none';\n",
              "\n",
              "        async function convertToInteractive(key) {\n",
              "          const element = document.querySelector('#df-856b248c-21d1-46a9-b623-d0bf4a78b8e6');\n",
              "          const dataTable =\n",
              "            await google.colab.kernel.invokeFunction('convertToInteractive',\n",
              "                                                     [key], {});\n",
              "          if (!dataTable) return;\n",
              "\n",
              "          const docLinkHtml = 'Like what you see? Visit the ' +\n",
              "            '<a target=\"_blank\" href=https://colab.research.google.com/notebooks/data_table.ipynb>data table notebook</a>'\n",
              "            + ' to learn more about interactive tables.';\n",
              "          element.innerHTML = '';\n",
              "          dataTable['output_type'] = 'display_data';\n",
              "          await google.colab.output.renderOutput(dataTable, element);\n",
              "          const docLink = document.createElement('div');\n",
              "          docLink.innerHTML = docLinkHtml;\n",
              "          element.appendChild(docLink);\n",
              "        }\n",
              "      </script>\n",
              "    </div>\n",
              "  </div>\n",
              "  "
            ],
            "text/plain": [
              "                       Name  NetWorth  ... Self_made               Industry\n",
              "9             Mukesh Ambani      84.5  ...     False            Diversified\n",
              "23    Gautam Adani & family      50.5  ...      True            Diversified\n",
              "71               Shiv Nadar      23.5  ...      True             Technology\n",
              "116      Radhakishan Damani      16.5  ...      True       Fashion & Retail\n",
              "122              Uday Kotak      15.9  ...      True  Finance & Investments\n",
              "...                     ...       ...  ...       ...                    ...\n",
              "2683       Ramesh Kumar Dua       1.0  ...      True       Fashion & Retail\n",
              "2698          Ashok Kajaria       1.0  ...      True          Manufacturing\n",
              "2699      T.S. Kalyanaraman       1.0  ...      True       Fashion & Retail\n",
              "2712          Rafique Malik       1.0  ...     False       Fashion & Retail\n",
              "2715         Mofatraj Munot       1.0  ...      True            Real Estate\n",
              "\n",
              "[140 rows x 13 columns]"
            ]
          },
          "metadata": {},
          "execution_count": 21
        }
      ]
    },
    {
      "cell_type": "markdown",
      "source": [
        "\n",
        "\n",
        "     There are 140 billionaires from India,  with 1 being in top 10."
      ],
      "metadata": {
        "id": "DVgmHAKp5Riw"
      }
    },
    {
      "cell_type": "markdown",
      "source": [
        "# Net worth "
      ],
      "metadata": {
        "id": "w29lxIWOHxZC"
      }
    },
    {
      "cell_type": "markdown",
      "source": [
        "### Top 10 Net Worth"
      ],
      "metadata": {
        "id": "-46pf3c86Pre"
      }
    },
    {
      "cell_type": "code",
      "metadata": {
        "colab": {
          "base_uri": "https://localhost:8080/",
          "height": 858
        },
        "id": "skslLxjHaKjt",
        "outputId": "8be545c4-20ac-4cb5-83dd-7db67fa486ee"
      },
      "source": [
        "top_10= df.sort_values(by = ['NetWorth'], ascending = False).head(10)\n",
        "top_10"
      ],
      "execution_count": null,
      "outputs": [
        {
          "output_type": "execute_result",
          "data": {
            "text/html": [
              "\n",
              "  <div id=\"df-7bc06bea-b434-456b-bda3-b4b3e186eb00\">\n",
              "    <div class=\"colab-df-container\">\n",
              "      <div>\n",
              "<style scoped>\n",
              "    .dataframe tbody tr th:only-of-type {\n",
              "        vertical-align: middle;\n",
              "    }\n",
              "\n",
              "    .dataframe tbody tr th {\n",
              "        vertical-align: top;\n",
              "    }\n",
              "\n",
              "    .dataframe thead th {\n",
              "        text-align: right;\n",
              "    }\n",
              "</style>\n",
              "<table border=\"1\" class=\"dataframe\">\n",
              "  <thead>\n",
              "    <tr style=\"text-align: right;\">\n",
              "      <th></th>\n",
              "      <th>Name</th>\n",
              "      <th>NetWorth</th>\n",
              "      <th>Country</th>\n",
              "      <th>Source</th>\n",
              "      <th>Rank</th>\n",
              "      <th>Age</th>\n",
              "      <th>Residence</th>\n",
              "      <th>Citizenship</th>\n",
              "      <th>Status</th>\n",
              "      <th>Children</th>\n",
              "      <th>Education</th>\n",
              "      <th>Self_made</th>\n",
              "      <th>Industry</th>\n",
              "    </tr>\n",
              "  </thead>\n",
              "  <tbody>\n",
              "    <tr>\n",
              "      <th>0</th>\n",
              "      <td>Jeff Bezos</td>\n",
              "      <td>177.0</td>\n",
              "      <td>United States</td>\n",
              "      <td>Amazon</td>\n",
              "      <td>1</td>\n",
              "      <td>57.0</td>\n",
              "      <td>Seattle, Washington</td>\n",
              "      <td>United States</td>\n",
              "      <td>In Relationship</td>\n",
              "      <td>4.0</td>\n",
              "      <td>Bachelor of Arts/Science, Princeton University</td>\n",
              "      <td>True</td>\n",
              "      <td>Technology</td>\n",
              "    </tr>\n",
              "    <tr>\n",
              "      <th>1</th>\n",
              "      <td>Elon Musk</td>\n",
              "      <td>151.0</td>\n",
              "      <td>United States</td>\n",
              "      <td>Tesla, SpaceX</td>\n",
              "      <td>2</td>\n",
              "      <td>49.0</td>\n",
              "      <td>Austin, Texas</td>\n",
              "      <td>United States</td>\n",
              "      <td>In Relationship</td>\n",
              "      <td>7.0</td>\n",
              "      <td>Bachelor of Arts/Science, University of Pennsy...</td>\n",
              "      <td>True</td>\n",
              "      <td>Automotive</td>\n",
              "    </tr>\n",
              "    <tr>\n",
              "      <th>2</th>\n",
              "      <td>Bernard Arnault &amp; family</td>\n",
              "      <td>150.0</td>\n",
              "      <td>France</td>\n",
              "      <td>LVMH</td>\n",
              "      <td>3</td>\n",
              "      <td>72.0</td>\n",
              "      <td>Paris, France</td>\n",
              "      <td>France</td>\n",
              "      <td>Married</td>\n",
              "      <td>5.0</td>\n",
              "      <td>Bachelor of Arts/Science, Ecole Polytechnique ...</td>\n",
              "      <td>False</td>\n",
              "      <td>Fashion &amp; Retail</td>\n",
              "    </tr>\n",
              "    <tr>\n",
              "      <th>3</th>\n",
              "      <td>Bill Gates</td>\n",
              "      <td>124.0</td>\n",
              "      <td>United States</td>\n",
              "      <td>Microsoft</td>\n",
              "      <td>4</td>\n",
              "      <td>65.0</td>\n",
              "      <td>Medina, Washington</td>\n",
              "      <td>United States</td>\n",
              "      <td>Divorced</td>\n",
              "      <td>3.0</td>\n",
              "      <td>Drop Out, Harvard University</td>\n",
              "      <td>True</td>\n",
              "      <td>Technology</td>\n",
              "    </tr>\n",
              "    <tr>\n",
              "      <th>4</th>\n",
              "      <td>Mark Zuckerberg</td>\n",
              "      <td>97.0</td>\n",
              "      <td>United States</td>\n",
              "      <td>Facebook</td>\n",
              "      <td>5</td>\n",
              "      <td>36.0</td>\n",
              "      <td>Palo Alto, California</td>\n",
              "      <td>United States</td>\n",
              "      <td>Married</td>\n",
              "      <td>2.0</td>\n",
              "      <td>Drop Out, Harvard University</td>\n",
              "      <td>True</td>\n",
              "      <td>Technology</td>\n",
              "    </tr>\n",
              "    <tr>\n",
              "      <th>5</th>\n",
              "      <td>Warren Buffett</td>\n",
              "      <td>96.0</td>\n",
              "      <td>United States</td>\n",
              "      <td>Berkshire Hathaway</td>\n",
              "      <td>6</td>\n",
              "      <td>90.0</td>\n",
              "      <td>Omaha, Nebraska</td>\n",
              "      <td>United States</td>\n",
              "      <td>Widowed, Remarried</td>\n",
              "      <td>3.0</td>\n",
              "      <td>Master of Science, Columbia University; Bachel...</td>\n",
              "      <td>True</td>\n",
              "      <td>Finance &amp; Investments</td>\n",
              "    </tr>\n",
              "    <tr>\n",
              "      <th>6</th>\n",
              "      <td>Larry Ellison</td>\n",
              "      <td>93.0</td>\n",
              "      <td>United States</td>\n",
              "      <td>software</td>\n",
              "      <td>7</td>\n",
              "      <td>76.0</td>\n",
              "      <td>Lanai, Hawaii</td>\n",
              "      <td>United States</td>\n",
              "      <td>In Relationship</td>\n",
              "      <td>4.0</td>\n",
              "      <td>Drop Out, University of Chicago; Drop Out, Uni...</td>\n",
              "      <td>True</td>\n",
              "      <td>Technology</td>\n",
              "    </tr>\n",
              "    <tr>\n",
              "      <th>7</th>\n",
              "      <td>Larry Page</td>\n",
              "      <td>91.5</td>\n",
              "      <td>United States</td>\n",
              "      <td>Google</td>\n",
              "      <td>8</td>\n",
              "      <td>48.0</td>\n",
              "      <td>Palo Alto, California</td>\n",
              "      <td>United States</td>\n",
              "      <td>Married</td>\n",
              "      <td>1.0</td>\n",
              "      <td>Master of Science, Stanford University; Bachel...</td>\n",
              "      <td>True</td>\n",
              "      <td>Technology</td>\n",
              "    </tr>\n",
              "    <tr>\n",
              "      <th>8</th>\n",
              "      <td>Sergey Brin</td>\n",
              "      <td>89.0</td>\n",
              "      <td>United States</td>\n",
              "      <td>Google</td>\n",
              "      <td>9</td>\n",
              "      <td>47.0</td>\n",
              "      <td>Los Altos, California</td>\n",
              "      <td>United States</td>\n",
              "      <td>Married</td>\n",
              "      <td>3.0</td>\n",
              "      <td>Master of Science, Stanford University; Bachel...</td>\n",
              "      <td>True</td>\n",
              "      <td>Technology</td>\n",
              "    </tr>\n",
              "    <tr>\n",
              "      <th>9</th>\n",
              "      <td>Mukesh Ambani</td>\n",
              "      <td>84.5</td>\n",
              "      <td>India</td>\n",
              "      <td>diversified</td>\n",
              "      <td>10</td>\n",
              "      <td>63.0</td>\n",
              "      <td>Mumbai, India</td>\n",
              "      <td>India</td>\n",
              "      <td>Married</td>\n",
              "      <td>3.0</td>\n",
              "      <td>Drop Out, Stanford University; Bachelor of Sci...</td>\n",
              "      <td>False</td>\n",
              "      <td>Diversified</td>\n",
              "    </tr>\n",
              "  </tbody>\n",
              "</table>\n",
              "</div>\n",
              "      <button class=\"colab-df-convert\" onclick=\"convertToInteractive('df-7bc06bea-b434-456b-bda3-b4b3e186eb00')\"\n",
              "              title=\"Convert this dataframe to an interactive table.\"\n",
              "              style=\"display:none;\">\n",
              "        \n",
              "  <svg xmlns=\"http://www.w3.org/2000/svg\" height=\"24px\"viewBox=\"0 0 24 24\"\n",
              "       width=\"24px\">\n",
              "    <path d=\"M0 0h24v24H0V0z\" fill=\"none\"/>\n",
              "    <path d=\"M18.56 5.44l.94 2.06.94-2.06 2.06-.94-2.06-.94-.94-2.06-.94 2.06-2.06.94zm-11 1L8.5 8.5l.94-2.06 2.06-.94-2.06-.94L8.5 2.5l-.94 2.06-2.06.94zm10 10l.94 2.06.94-2.06 2.06-.94-2.06-.94-.94-2.06-.94 2.06-2.06.94z\"/><path d=\"M17.41 7.96l-1.37-1.37c-.4-.4-.92-.59-1.43-.59-.52 0-1.04.2-1.43.59L10.3 9.45l-7.72 7.72c-.78.78-.78 2.05 0 2.83L4 21.41c.39.39.9.59 1.41.59.51 0 1.02-.2 1.41-.59l7.78-7.78 2.81-2.81c.8-.78.8-2.07 0-2.86zM5.41 20L4 18.59l7.72-7.72 1.47 1.35L5.41 20z\"/>\n",
              "  </svg>\n",
              "      </button>\n",
              "      \n",
              "  <style>\n",
              "    .colab-df-container {\n",
              "      display:flex;\n",
              "      flex-wrap:wrap;\n",
              "      gap: 12px;\n",
              "    }\n",
              "\n",
              "    .colab-df-convert {\n",
              "      background-color: #E8F0FE;\n",
              "      border: none;\n",
              "      border-radius: 50%;\n",
              "      cursor: pointer;\n",
              "      display: none;\n",
              "      fill: #1967D2;\n",
              "      height: 32px;\n",
              "      padding: 0 0 0 0;\n",
              "      width: 32px;\n",
              "    }\n",
              "\n",
              "    .colab-df-convert:hover {\n",
              "      background-color: #E2EBFA;\n",
              "      box-shadow: 0px 1px 2px rgba(60, 64, 67, 0.3), 0px 1px 3px 1px rgba(60, 64, 67, 0.15);\n",
              "      fill: #174EA6;\n",
              "    }\n",
              "\n",
              "    [theme=dark] .colab-df-convert {\n",
              "      background-color: #3B4455;\n",
              "      fill: #D2E3FC;\n",
              "    }\n",
              "\n",
              "    [theme=dark] .colab-df-convert:hover {\n",
              "      background-color: #434B5C;\n",
              "      box-shadow: 0px 1px 3px 1px rgba(0, 0, 0, 0.15);\n",
              "      filter: drop-shadow(0px 1px 2px rgba(0, 0, 0, 0.3));\n",
              "      fill: #FFFFFF;\n",
              "    }\n",
              "  </style>\n",
              "\n",
              "      <script>\n",
              "        const buttonEl =\n",
              "          document.querySelector('#df-7bc06bea-b434-456b-bda3-b4b3e186eb00 button.colab-df-convert');\n",
              "        buttonEl.style.display =\n",
              "          google.colab.kernel.accessAllowed ? 'block' : 'none';\n",
              "\n",
              "        async function convertToInteractive(key) {\n",
              "          const element = document.querySelector('#df-7bc06bea-b434-456b-bda3-b4b3e186eb00');\n",
              "          const dataTable =\n",
              "            await google.colab.kernel.invokeFunction('convertToInteractive',\n",
              "                                                     [key], {});\n",
              "          if (!dataTable) return;\n",
              "\n",
              "          const docLinkHtml = 'Like what you see? Visit the ' +\n",
              "            '<a target=\"_blank\" href=https://colab.research.google.com/notebooks/data_table.ipynb>data table notebook</a>'\n",
              "            + ' to learn more about interactive tables.';\n",
              "          element.innerHTML = '';\n",
              "          dataTable['output_type'] = 'display_data';\n",
              "          await google.colab.output.renderOutput(dataTable, element);\n",
              "          const docLink = document.createElement('div');\n",
              "          docLink.innerHTML = docLinkHtml;\n",
              "          element.appendChild(docLink);\n",
              "        }\n",
              "      </script>\n",
              "    </div>\n",
              "  </div>\n",
              "  "
            ],
            "text/plain": [
              "                       Name  NetWorth  ... Self_made               Industry\n",
              "0                Jeff Bezos     177.0  ...      True             Technology\n",
              "1                 Elon Musk     151.0  ...      True             Automotive\n",
              "2  Bernard Arnault & family     150.0  ...     False       Fashion & Retail\n",
              "3                Bill Gates     124.0  ...      True             Technology\n",
              "4           Mark Zuckerberg      97.0  ...      True             Technology\n",
              "5            Warren Buffett      96.0  ...      True  Finance & Investments\n",
              "6             Larry Ellison      93.0  ...      True             Technology\n",
              "7                Larry Page      91.5  ...      True             Technology\n",
              "8               Sergey Brin      89.0  ...      True             Technology\n",
              "9             Mukesh Ambani      84.5  ...     False            Diversified\n",
              "\n",
              "[10 rows x 13 columns]"
            ]
          },
          "metadata": {},
          "execution_count": 22
        }
      ]
    },
    {
      "cell_type": "code",
      "metadata": {
        "id": "qs7uGhMBqZw5",
        "colab": {
          "base_uri": "https://localhost:8080/",
          "height": 402
        },
        "outputId": "1b0e3502-d9f0-4adb-9369-303929bca6b8"
      },
      "source": [
        "plt.figure(figsize = (20,7))\n",
        "plt.barh(top_10['Name'],top_10['NetWorth'], color = ('#ecf2fb', '#d7e3fc','#ccdbfd','#c1d3fe' ,'#abc4ff','#edf2fb', '#d7e3fc','#ccdbfd','#c1d3fe' ,'#edf7fe'))\n",
        "plt.title('Top 10 billionaires of the world in 2021')\n",
        "plt.ylabel('Names') \n",
        "plt.xlabel('Networth (in billion $)')\n",
        "# plt.savefig(\"Top 10 billionaires of the world in 2021.png\")\n",
        "# files.download(\"Top 10 billionaires of the world in 2021.png\")\n",
        "plt.show()"
      ],
      "execution_count": null,
      "outputs": [
        {
          "output_type": "display_data",
          "data": {
            "image/png": "[encoded data removed]",
            "text/plain": [
              "<Figure size 1440x504 with 1 Axes>"
            ]
          },
          "metadata": {
            "needs_background": "light"
          }
        }
      ]
    },
    {
      "cell_type": "markdown",
      "source": [
        "### Top 10 Indians Net Worth"
      ],
      "metadata": {
        "id": "IlDyEjSW6W_Q"
      }
    },
    {
      "cell_type": "code",
      "source": [
        "plt.figure(figsize = (20,7))\n",
        "plt.barh(indian_df['Name'].head(10),indian_df['NetWorth'].head(10), color = ('#d1d1d1' , '#e7dbd6', '#e2e2e2' ,'#d1d1d1', '#eac4d5','#d1d1d1' , '#e1dbd6', '#e2e2e2' ,'#f7c6f7', '#f1d1d1'))\n",
        "plt.title('Top 10 billionaires of India in 2021')\n",
        "plt.ylabel('Names') \n",
        "plt.xlabel('Networth (in billion $)')\n",
        "\n",
        "# plt.savefig(\"Top 10 billionaires of India in 2021.png\")\n",
        "# files.download(\"Top 10 billionaires of India in 2021.png\")\n",
        "plt.show()"
      ],
      "metadata": {
        "colab": {
          "base_uri": "https://localhost:8080/",
          "height": 404
        },
        "id": "J_i5r1y06b-N",
        "outputId": "aa0136d7-a084-45c3-d8bb-e428232c99e0"
      },
      "execution_count": null,
      "outputs": [
        {
          "output_type": "display_data",
          "data": {
            "image/png": "[encoded data removed]",
            "text/plain": [
              "<Figure size 1440x504 with 1 Axes>"
            ]
          },
          "metadata": {
            "needs_background": "light"
          }
        }
      ]
    },
    {
      "cell_type": "markdown",
      "source": [
        "# Top Industries"
      ],
      "metadata": {
        "id": "zOIgd23ZTqHr"
      }
    },
    {
      "cell_type": "code",
      "source": [
        "industries = df['Industry'].value_counts().index\n",
        "industries_count = df['Industry'].value_counts().values\n",
        "\n",
        "df['Industry'].value_counts()"
      ],
      "metadata": {
        "colab": {
          "base_uri": "https://localhost:8080/"
        },
        "id": "Dd3whYsmKFyz",
        "outputId": "7910b2f7-fc76-4184-b865-2568dcdb1bb1"
      },
      "execution_count": null,
      "outputs": [
        {
          "output_type": "execute_result",
          "data": {
            "text/plain": [
              "Finance & Investments         371\n",
              "Technology                    365\n",
              "Manufacturing                 331\n",
              "Fashion & Retail              273\n",
              "Healthcare                    221\n",
              "Food & Beverage               219\n",
              "Real Estate                   215\n",
              "Diversified                   188\n",
              "Energy                        100\n",
              "Media & Entertainment          95\n",
              "Service                        75\n",
              "Metals & Mining                74\n",
              "Automotive                     68\n",
              "Construction & Engineering     44\n",
              "Logistics                      35\n",
              "Telecom                        32\n",
              "Gambling & Casinos             25\n",
              "Sports                         24\n",
              "Name: Industry, dtype: int64"
            ]
          },
          "metadata": {},
          "execution_count": 61
        }
      ]
    },
    {
      "cell_type": "code",
      "source": [
        "plt.figure(figsize = (20,7))\n",
        "plt.barh(industries,industries_count, color = ('#f55c7a', '#f57c73' , '#f68c70' , '#f6ac69' , '#f6bc66','#f55c7a', '#f57c73' , '#f68c70' , '#f6ac69' , '#f6bc66','#f55c7a', '#f57c73' , '#f68c70' , '#f6ac69' , '#f6bc66'))\n",
        "plt.title(\"Industries in which world's top billionaires work \")\n",
        "plt.xlabel('Count') \n",
        "plt.ylabel('Industry')\n",
        "\n",
        "# plt.savefig(\"Industries in which world's top billionaires work.png\")\n",
        "# files.download(\"Industries in which world's top billionaires work.png\")\n",
        "plt.show()"
      ],
      "metadata": {
        "colab": {
          "base_uri": "https://localhost:8080/",
          "height": 398
        },
        "id": "KEVu8Y4UTzTw",
        "outputId": "0ea8fe0d-a698-419a-db9f-78d57165639a"
      },
      "execution_count": null,
      "outputs": [
        {
          "output_type": "display_data",
          "data": {
            "image/png": "[encoded data removed]",
            "text/plain": [
              "<Figure size 1440x504 with 1 Axes>"
            ]
          },
          "metadata": {
            "needs_background": "light"
          }
        }
      ]
    },
    {
      "cell_type": "markdown",
      "source": [
        "\n",
        "\n",
        "    From here we can see that majority of the billionares work in these top 5 industries:\n",
        "\n",
        "        1. Finance & Investment\n",
        "        2.  Technology\n",
        "        3.  Manufacturing\n",
        "        4.  Fashion & Retail\n",
        "        5.  Healthcare\n",
        "\n",
        "\n",
        "\n"
      ],
      "metadata": {
        "id": "_Zw8OsjdVims"
      }
    },
    {
      "cell_type": "markdown",
      "source": [
        "### Top 100 billionaires Industries"
      ],
      "metadata": {
        "id": "BJnekmGXtKVB"
      }
    },
    {
      "cell_type": "code",
      "source": [
        "plt.figure(figsize = (9,9))\n",
        "plt.pie(df['Industry'].head(100).value_counts().values,\n",
        "        labels = df['Industry'].head(100).value_counts().index, \n",
        "        shadow=True , \n",
        "        autopct = '%1.1f%%' )\n",
        "plt.title('Top 100 billionaires industries')\n",
        "\n",
        "# plt.savefig(\"Top 100 billionaires industries.png\")\n",
        "# files.download(\"Top 100 billionaires industries.png\")\n",
        "plt.show()"
      ],
      "metadata": {
        "colab": {
          "base_uri": "https://localhost:8080/",
          "height": 536
        },
        "id": "sRSIDV8bsx3F",
        "outputId": "dcc9e6dc-67bc-4f13-dc25-349a6f4941ad"
      },
      "execution_count": null,
      "outputs": [
        {
          "output_type": "display_data",
          "data": {
            "image/png": "[encoded data removed]",
            "text/plain": [
              "<Figure size 648x648 with 1 Axes>"
            ]
          },
          "metadata": {}
        }
      ]
    },
    {
      "cell_type": "markdown",
      "source": [
        "\n",
        "    These are the top 5 industries pursued by top 100 billionaires:\n",
        "\n",
        "        1.  Technology\n",
        "        2.  Fashion & Retail\n",
        "        3.  Food & Beverage\n",
        "        4.  Metals & Mining\n",
        "        5.  Finance & Investment\n"
      ],
      "metadata": {
        "id": "geQvMnwetvwV"
      }
    },
    {
      "cell_type": "markdown",
      "source": [
        "### Top 10 Billionaires Industries"
      ],
      "metadata": {
        "id": "mIlmZI_BtWeV"
      }
    },
    {
      "cell_type": "code",
      "source": [
        "top_10[['Rank','Name', 'Industry']]"
      ],
      "metadata": {
        "colab": {
          "base_uri": "https://localhost:8080/",
          "height": 363
        },
        "id": "qNxHiumaUeIz",
        "outputId": "4970d1d6-232d-4d87-a8d4-28f227257a5e"
      },
      "execution_count": null,
      "outputs": [
        {
          "output_type": "execute_result",
          "data": {
            "text/html": [
              "\n",
              "  <div id=\"df-b024ed3b-11ad-4fc6-a9a2-b5ea80b7fe57\">\n",
              "    <div class=\"colab-df-container\">\n",
              "      <div>\n",
              "<style scoped>\n",
              "    .dataframe tbody tr th:only-of-type {\n",
              "        vertical-align: middle;\n",
              "    }\n",
              "\n",
              "    .dataframe tbody tr th {\n",
              "        vertical-align: top;\n",
              "    }\n",
              "\n",
              "    .dataframe thead th {\n",
              "        text-align: right;\n",
              "    }\n",
              "</style>\n",
              "<table border=\"1\" class=\"dataframe\">\n",
              "  <thead>\n",
              "    <tr style=\"text-align: right;\">\n",
              "      <th></th>\n",
              "      <th>Rank</th>\n",
              "      <th>Name</th>\n",
              "      <th>Industry</th>\n",
              "    </tr>\n",
              "  </thead>\n",
              "  <tbody>\n",
              "    <tr>\n",
              "      <th>0</th>\n",
              "      <td>1</td>\n",
              "      <td>Jeff Bezos</td>\n",
              "      <td>Technology</td>\n",
              "    </tr>\n",
              "    <tr>\n",
              "      <th>1</th>\n",
              "      <td>2</td>\n",
              "      <td>Elon Musk</td>\n",
              "      <td>Automotive</td>\n",
              "    </tr>\n",
              "    <tr>\n",
              "      <th>2</th>\n",
              "      <td>3</td>\n",
              "      <td>Bernard Arnault &amp; family</td>\n",
              "      <td>Fashion &amp; Retail</td>\n",
              "    </tr>\n",
              "    <tr>\n",
              "      <th>3</th>\n",
              "      <td>4</td>\n",
              "      <td>Bill Gates</td>\n",
              "      <td>Technology</td>\n",
              "    </tr>\n",
              "    <tr>\n",
              "      <th>4</th>\n",
              "      <td>5</td>\n",
              "      <td>Mark Zuckerberg</td>\n",
              "      <td>Technology</td>\n",
              "    </tr>\n",
              "    <tr>\n",
              "      <th>5</th>\n",
              "      <td>6</td>\n",
              "      <td>Warren Buffett</td>\n",
              "      <td>Finance &amp; Investments</td>\n",
              "    </tr>\n",
              "    <tr>\n",
              "      <th>6</th>\n",
              "      <td>7</td>\n",
              "      <td>Larry Ellison</td>\n",
              "      <td>Technology</td>\n",
              "    </tr>\n",
              "    <tr>\n",
              "      <th>7</th>\n",
              "      <td>8</td>\n",
              "      <td>Larry Page</td>\n",
              "      <td>Technology</td>\n",
              "    </tr>\n",
              "    <tr>\n",
              "      <th>8</th>\n",
              "      <td>9</td>\n",
              "      <td>Sergey Brin</td>\n",
              "      <td>Technology</td>\n",
              "    </tr>\n",
              "    <tr>\n",
              "      <th>9</th>\n",
              "      <td>10</td>\n",
              "      <td>Mukesh Ambani</td>\n",
              "      <td>Diversified</td>\n",
              "    </tr>\n",
              "  </tbody>\n",
              "</table>\n",
              "</div>\n",
              "      <button class=\"colab-df-convert\" onclick=\"convertToInteractive('df-b024ed3b-11ad-4fc6-a9a2-b5ea80b7fe57')\"\n",
              "              title=\"Convert this dataframe to an interactive table.\"\n",
              "              style=\"display:none;\">\n",
              "        \n",
              "  <svg xmlns=\"http://www.w3.org/2000/svg\" height=\"24px\"viewBox=\"0 0 24 24\"\n",
              "       width=\"24px\">\n",
              "    <path d=\"M0 0h24v24H0V0z\" fill=\"none\"/>\n",
              "    <path d=\"M18.56 5.44l.94 2.06.94-2.06 2.06-.94-2.06-.94-.94-2.06-.94 2.06-2.06.94zm-11 1L8.5 8.5l.94-2.06 2.06-.94-2.06-.94L8.5 2.5l-.94 2.06-2.06.94zm10 10l.94 2.06.94-2.06 2.06-.94-2.06-.94-.94-2.06-.94 2.06-2.06.94z\"/><path d=\"M17.41 7.96l-1.37-1.37c-.4-.4-.92-.59-1.43-.59-.52 0-1.04.2-1.43.59L10.3 9.45l-7.72 7.72c-.78.78-.78 2.05 0 2.83L4 21.41c.39.39.9.59 1.41.59.51 0 1.02-.2 1.41-.59l7.78-7.78 2.81-2.81c.8-.78.8-2.07 0-2.86zM5.41 20L4 18.59l7.72-7.72 1.47 1.35L5.41 20z\"/>\n",
              "  </svg>\n",
              "      </button>\n",
              "      \n",
              "  <style>\n",
              "    .colab-df-container {\n",
              "      display:flex;\n",
              "      flex-wrap:wrap;\n",
              "      gap: 12px;\n",
              "    }\n",
              "\n",
              "    .colab-df-convert {\n",
              "      background-color: #E8F0FE;\n",
              "      border: none;\n",
              "      border-radius: 50%;\n",
              "      cursor: pointer;\n",
              "      display: none;\n",
              "      fill: #1967D2;\n",
              "      height: 32px;\n",
              "      padding: 0 0 0 0;\n",
              "      width: 32px;\n",
              "    }\n",
              "\n",
              "    .colab-df-convert:hover {\n",
              "      background-color: #E2EBFA;\n",
              "      box-shadow: 0px 1px 2px rgba(60, 64, 67, 0.3), 0px 1px 3px 1px rgba(60, 64, 67, 0.15);\n",
              "      fill: #174EA6;\n",
              "    }\n",
              "\n",
              "    [theme=dark] .colab-df-convert {\n",
              "      background-color: #3B4455;\n",
              "      fill: #D2E3FC;\n",
              "    }\n",
              "\n",
              "    [theme=dark] .colab-df-convert:hover {\n",
              "      background-color: #434B5C;\n",
              "      box-shadow: 0px 1px 3px 1px rgba(0, 0, 0, 0.15);\n",
              "      filter: drop-shadow(0px 1px 2px rgba(0, 0, 0, 0.3));\n",
              "      fill: #FFFFFF;\n",
              "    }\n",
              "  </style>\n",
              "\n",
              "      <script>\n",
              "        const buttonEl =\n",
              "          document.querySelector('#df-b024ed3b-11ad-4fc6-a9a2-b5ea80b7fe57 button.colab-df-convert');\n",
              "        buttonEl.style.display =\n",
              "          google.colab.kernel.accessAllowed ? 'block' : 'none';\n",
              "\n",
              "        async function convertToInteractive(key) {\n",
              "          const element = document.querySelector('#df-b024ed3b-11ad-4fc6-a9a2-b5ea80b7fe57');\n",
              "          const dataTable =\n",
              "            await google.colab.kernel.invokeFunction('convertToInteractive',\n",
              "                                                     [key], {});\n",
              "          if (!dataTable) return;\n",
              "\n",
              "          const docLinkHtml = 'Like what you see? Visit the ' +\n",
              "            '<a target=\"_blank\" href=https://colab.research.google.com/notebooks/data_table.ipynb>data table notebook</a>'\n",
              "            + ' to learn more about interactive tables.';\n",
              "          element.innerHTML = '';\n",
              "          dataTable['output_type'] = 'display_data';\n",
              "          await google.colab.output.renderOutput(dataTable, element);\n",
              "          const docLink = document.createElement('div');\n",
              "          docLink.innerHTML = docLinkHtml;\n",
              "          element.appendChild(docLink);\n",
              "        }\n",
              "      </script>\n",
              "    </div>\n",
              "  </div>\n",
              "  "
            ],
            "text/plain": [
              "   Rank                      Name               Industry\n",
              "0     1                Jeff Bezos             Technology\n",
              "1     2                 Elon Musk             Automotive\n",
              "2     3  Bernard Arnault & family       Fashion & Retail\n",
              "3     4                Bill Gates             Technology\n",
              "4     5           Mark Zuckerberg             Technology\n",
              "5     6            Warren Buffett  Finance & Investments\n",
              "6     7             Larry Ellison             Technology\n",
              "7     8                Larry Page             Technology\n",
              "8     9               Sergey Brin             Technology\n",
              "9    10             Mukesh Ambani            Diversified"
            ]
          },
          "metadata": {},
          "execution_count": 64
        }
      ]
    },
    {
      "cell_type": "code",
      "source": [
        "top_10['Industry'].value_counts()"
      ],
      "metadata": {
        "colab": {
          "base_uri": "https://localhost:8080/"
        },
        "id": "9mQzMRTVqHJ8",
        "outputId": "9dbce72f-f221-45ad-d928-380300551b25"
      },
      "execution_count": null,
      "outputs": [
        {
          "output_type": "execute_result",
          "data": {
            "text/plain": [
              "Technology               6\n",
              "Fashion & Retail         1\n",
              "Diversified              1\n",
              "Automotive               1\n",
              "Finance & Investments    1\n",
              "Name: Industry, dtype: int64"
            ]
          },
          "metadata": {},
          "execution_count": 65
        }
      ]
    },
    {
      "cell_type": "code",
      "source": [
        "plt.figure(figsize = (9,9))\n",
        "plt.pie(top_10['Industry'].value_counts().values,\n",
        "        labels = top_10['Industry'].value_counts().index, \n",
        "        shadow=True , \n",
        "        autopct = '%1.1f%%' )\n",
        "plt.title('Top 10 billionaires industries')\n",
        "\n",
        "# plt.savefig(\"Top 10 billionaires industries.png\")\n",
        "# files.download(\"Top 10 billionaires industries.png\")\n",
        "plt.show()"
      ],
      "metadata": {
        "colab": {
          "base_uri": "https://localhost:8080/",
          "height": 536
        },
        "id": "RZgmbQ15sVTH",
        "outputId": "a7f50db8-edad-41e5-88bb-9186bed0eac9"
      },
      "execution_count": null,
      "outputs": [
        {
          "output_type": "display_data",
          "data": {
            "image/png": "[encoded data removed]",
            "text/plain": [
              "<Figure size 648x648 with 1 Axes>"
            ]
          },
          "metadata": {}
        }
      ]
    },
    {
      "cell_type": "markdown",
      "source": [
        "\n",
        "     \n",
        "        But if we look at top 10 richest people, Technology seems to be the most promising industry.\n"
      ],
      "metadata": {
        "id": "QXUHpY_Urist"
      }
    },
    {
      "cell_type": "markdown",
      "source": [
        "### Top Indian billionaies industries"
      ],
      "metadata": {
        "id": "CczY4PPv7Gc8"
      }
    },
    {
      "cell_type": "code",
      "source": [
        "indian_df.Industry.value_counts()"
      ],
      "metadata": {
        "colab": {
          "base_uri": "https://localhost:8080/"
        },
        "id": "NggauNVl7G-z",
        "outputId": "05d14310-bc55-4d8c-837d-d1cc97759109"
      },
      "execution_count": null,
      "outputs": [
        {
          "output_type": "execute_result",
          "data": {
            "text/plain": [
              "Manufacturing                 27\n",
              "Healthcare                    24\n",
              "Diversified                   17\n",
              "Fashion & Retail              13\n",
              "Technology                    12\n",
              "Food & Beverage               10\n",
              "Real Estate                    8\n",
              "Finance & Investments          8\n",
              "Automotive                     6\n",
              "Construction & Engineering     5\n",
              "Service                        4\n",
              "Metals & Mining                3\n",
              "Energy                         1\n",
              "Media & Entertainment          1\n",
              "Telecom                        1\n",
              "Name: Industry, dtype: int64"
            ]
          },
          "metadata": {},
          "execution_count": 67
        }
      ]
    },
    {
      "cell_type": "code",
      "source": [
        "plt.figure(figsize = (9,9))\n",
        "plt.pie(indian_df['Industry'].value_counts().values,\n",
        "        labels = indian_df['Industry'].value_counts().index, \n",
        "        shadow=True , \n",
        "        autopct = '%1.1f%%' )\n",
        "plt.title('Top Indian billionaires industries')\n",
        "\n",
        "# plt.savefig(\"Top Indian billionaires industries.png\")\n",
        "# files.download(\"Top Indian billionaires industries.png\")\n",
        "plt.show()"
      ],
      "metadata": {
        "colab": {
          "base_uri": "https://localhost:8080/",
          "height": 536
        },
        "id": "isTJNmgA7iB1",
        "outputId": "865e9b02-dc83-4f86-997b-e54f3de87036"
      },
      "execution_count": null,
      "outputs": [
        {
          "output_type": "display_data",
          "data": {
            "image/png": "[encoded data removed]",
            "text/plain": [
              "<Figure size 648x648 with 1 Axes>"
            ]
          },
          "metadata": {}
        }
      ]
    },
    {
      "cell_type": "markdown",
      "source": [
        "\n",
        "    These are the top 5 industries pursued by Indian billionaires:\n",
        "\n",
        "        1.  Manufacturing\n",
        "        2.  Healthcare\n",
        "        3.  Diversified\n",
        "        4.  Fashion & Retail\n",
        "        5.  Technology\n"
      ],
      "metadata": {
        "id": "lA2zktr370bO"
      }
    },
    {
      "cell_type": "markdown",
      "source": [
        "# Age"
      ],
      "metadata": {
        "id": "_BoOINx6u9gp"
      }
    },
    {
      "cell_type": "markdown",
      "source": [
        "### Top 10 billionaires Age"
      ],
      "metadata": {
        "id": "J4Dvia2g8Ui6"
      }
    },
    {
      "cell_type": "code",
      "source": [
        "plt.figure(figsize = (20,7))\n",
        "plt.barh(top_10['Name'],top_10['Age'], color = ('#f08080' , '#f4978e' , '#f8ad9d', '#fbc4ab' , '#ffdab9','#f08080' , '#f4978e' , '#f8ad9d', '#fbc4ab' , '#ffdab9'))\n",
        "plt.title(\"Age of top 10 richest people \")\n",
        "plt.xlabel('Age') \n",
        "plt.ylabel('Name')\n",
        "\n",
        "# plt.savefig(\"Age of top 10 richest people .png\")\n",
        "# files.download(\"Age of top 10 richest people .png\")\n",
        "plt.show()"
      ],
      "metadata": {
        "colab": {
          "base_uri": "https://localhost:8080/",
          "height": 402
        },
        "id": "q6gahXmqrfq5",
        "outputId": "6bd6ea28-3314-4e85-f810-9e9e943f70f6"
      },
      "execution_count": null,
      "outputs": [
        {
          "output_type": "display_data",
          "data": {
            "image/png": "[encoded data removed]",
            "text/plain": [
              "<Figure size 1440x504 with 1 Axes>"
            ]
          },
          "metadata": {
            "needs_background": "light"
          }
        }
      ]
    },
    {
      "cell_type": "markdown",
      "source": [
        "\n",
        "\n",
        "     Mark Zukerberg is the youngest in the top 10.\n",
        "\n",
        "     Warren Buffett is the oldest in the top 10."
      ],
      "metadata": {
        "id": "FHNMIfEB1dfn"
      }
    },
    {
      "cell_type": "code",
      "source": [
        "top_10['Age'].mean()"
      ],
      "metadata": {
        "colab": {
          "base_uri": "https://localhost:8080/"
        },
        "id": "BEmwK1l-vYiD",
        "outputId": "d1335bd5-177f-4dc0-d5cd-b86444e0e660"
      },
      "execution_count": null,
      "outputs": [
        {
          "output_type": "execute_result",
          "data": {
            "text/plain": [
              "60.3"
            ]
          },
          "metadata": {},
          "execution_count": 70
        }
      ]
    },
    {
      "cell_type": "code",
      "source": [
        "top_10['Age'].median()"
      ],
      "metadata": {
        "colab": {
          "base_uri": "https://localhost:8080/"
        },
        "id": "NCGMzRZTvm9k",
        "outputId": "96da157f-0a0c-4a41-97d0-84b1f969764d"
      },
      "execution_count": null,
      "outputs": [
        {
          "output_type": "execute_result",
          "data": {
            "text/plain": [
              "60.0"
            ]
          },
          "metadata": {},
          "execution_count": 71
        }
      ]
    },
    {
      "cell_type": "markdown",
      "source": [
        "### Age distribution"
      ],
      "metadata": {
        "id": "loQ1dVZU8dgW"
      }
    },
    {
      "cell_type": "code",
      "source": [
        "plt.figure(figsize = (10,7))\n",
        "df.Age.hist()\n",
        "plt.title(\"Age distribution of billionaires\")\n",
        "plt.xlabel('Age') \n",
        "plt.ylabel('Count')\n",
        "\n",
        "# plt.savefig(\"Age distribution of billionaires.png\")\n",
        "# files.download(\"Age distribution of billionaires.png\")\n",
        "plt.show()"
      ],
      "metadata": {
        "colab": {
          "base_uri": "https://localhost:8080/",
          "height": 458
        },
        "id": "v2CtT5Fvvq1G",
        "outputId": "001f4037-ff16-4049-a187-1b213ca9e58c"
      },
      "execution_count": null,
      "outputs": [
        {
          "output_type": "display_data",
          "data": {
            "application/javascript": [
              "\n",
              "    async function download(id, filename, size) {\n",
              "      if (!google.colab.kernel.accessAllowed) {\n",
              "        return;\n",
              "      }\n",
              "      const div = document.createElement('div');\n",
              "      const label = document.createElement('label');\n",
              "      label.textContent = `Downloading \"${filename}\": `;\n",
              "      div.appendChild(label);\n",
              "      const progress = document.createElement('progress');\n",
              "      progress.max = size;\n",
              "      div.appendChild(progress);\n",
              "      document.body.appendChild(div);\n",
              "\n",
              "      const buffers = [];\n",
              "      let downloaded = 0;\n",
              "\n",
              "      const channel = await google.colab.kernel.comms.open(id);\n",
              "      // Send a message to notify the kernel that we're ready.\n",
              "      channel.send({})\n",
              "\n",
              "      for await (const message of channel.messages) {\n",
              "        // Send a message to notify the kernel that we're ready.\n",
              "        channel.send({})\n",
              "        if (message.buffers) {\n",
              "          for (const buffer of message.buffers) {\n",
              "            buffers.push(buffer);\n",
              "            downloaded += buffer.byteLength;\n",
              "            progress.value = downloaded;\n",
              "          }\n",
              "        }\n",
              "      }\n",
              "      const blob = new Blob(buffers, {type: 'application/binary'});\n",
              "      const a = document.createElement('a');\n",
              "      a.href = window.URL.createObjectURL(blob);\n",
              "      a.download = filename;\n",
              "      div.appendChild(a);\n",
              "      a.click();\n",
              "      div.remove();\n",
              "    }\n",
              "  "
            ],
            "text/plain": [
              "<IPython.core.display.Javascript object>"
            ]
          },
          "metadata": {}
        },
        {
          "output_type": "display_data",
          "data": {
            "application/javascript": [
              "download(\"download_1222a4c8-a002-4a09-99dd-4fd15518f8d8\", \"Age distribution of billionaires.png\", 13143)"
            ],
            "text/plain": [
              "<IPython.core.display.Javascript object>"
            ]
          },
          "metadata": {}
        },
        {
          "output_type": "display_data",
          "data": {
            "image/png": "[encoded data removed]",
            "text/plain": [
              "<Figure size 720x504 with 1 Axes>"
            ]
          },
          "metadata": {
            "needs_background": "light"
          }
        }
      ]
    },
    {
      "cell_type": "markdown",
      "source": [
        "\n",
        "\n",
        "      It is clearly visible that majority of the billionares lie in the age range of 50 - 60.\n",
        "\n",
        "      "
      ],
      "metadata": {
        "id": "EVc6WJSNxPjv"
      }
    },
    {
      "cell_type": "code",
      "source": [
        "df['Age'].mean()"
      ],
      "metadata": {
        "colab": {
          "base_uri": "https://localhost:8080/"
        },
        "id": "lBZSgXso19Z1",
        "outputId": "1c4032c5-0bc2-40ec-dc95-a3b42a13fe98"
      },
      "execution_count": null,
      "outputs": [
        {
          "output_type": "execute_result",
          "data": {
            "text/plain": [
              "63.1136023916293"
            ]
          },
          "metadata": {},
          "execution_count": 59
        }
      ]
    },
    {
      "cell_type": "code",
      "source": [
        "df['Age'].median()"
      ],
      "metadata": {
        "colab": {
          "base_uri": "https://localhost:8080/"
        },
        "id": "hYiT7zM619W7",
        "outputId": "1bc1c7c2-0e1d-4687-b783-fd4b1a31e7cf"
      },
      "execution_count": null,
      "outputs": [
        {
          "output_type": "execute_result",
          "data": {
            "text/plain": [
              "63.0"
            ]
          },
          "metadata": {},
          "execution_count": 60
        }
      ]
    },
    {
      "cell_type": "code",
      "source": [
        "print(df[(df.Age > 50) & (df.Age < 60)]['Name'].count())"
      ],
      "metadata": {
        "colab": {
          "base_uri": "https://localhost:8080/"
        },
        "id": "RtWKkmmA0JP7",
        "outputId": "b6950839-2a67-402b-f402-c92c87b69ee7"
      },
      "execution_count": null,
      "outputs": [
        {
          "output_type": "stream",
          "name": "stdout",
          "text": [
            "699\n"
          ]
        }
      ]
    },
    {
      "cell_type": "code",
      "source": [
        "print(df[df.Age < 40]['Name'].count())"
      ],
      "metadata": {
        "colab": {
          "base_uri": "https://localhost:8080/"
        },
        "id": "DOzPRz7cv_u_",
        "outputId": "7a21d6a7-c7ab-46cb-a183-1e3ce1576d61"
      },
      "execution_count": null,
      "outputs": [
        {
          "output_type": "stream",
          "name": "stdout",
          "text": [
            "106\n"
          ]
        }
      ]
    },
    {
      "cell_type": "code",
      "source": [
        "print(df[df.Age < 30]['Name'].count())"
      ],
      "metadata": {
        "colab": {
          "base_uri": "https://localhost:8080/"
        },
        "id": "aIV71SP2xyJe",
        "outputId": "880a499e-6d9f-4651-e7e8-a0c26645d331"
      },
      "execution_count": null,
      "outputs": [
        {
          "output_type": "stream",
          "name": "stdout",
          "text": [
            "10\n"
          ]
        }
      ]
    },
    {
      "cell_type": "code",
      "source": [
        "print(df[df.Age < 20]['Name'].count())"
      ],
      "metadata": {
        "colab": {
          "base_uri": "https://localhost:8080/"
        },
        "id": "RKnCC1Huz62o",
        "outputId": "2fc816d8-5045-4eca-c5fc-479665335a24"
      },
      "execution_count": null,
      "outputs": [
        {
          "output_type": "stream",
          "name": "stdout",
          "text": [
            "1\n"
          ]
        }
      ]
    },
    {
      "cell_type": "code",
      "source": [
        "print(df[df.Age > 90]['Name'].count())"
      ],
      "metadata": {
        "colab": {
          "base_uri": "https://localhost:8080/"
        },
        "id": "Xf3UEjtBz9M9",
        "outputId": "06b0f28d-56f8-4e32-c684-b95d147547bb"
      },
      "execution_count": null,
      "outputs": [
        {
          "output_type": "stream",
          "name": "stdout",
          "text": [
            "55\n"
          ]
        }
      ]
    },
    {
      "cell_type": "markdown",
      "source": [
        "### Indian Billionaires Age distribution"
      ],
      "metadata": {
        "id": "5ipqDWku8k8B"
      }
    },
    {
      "cell_type": "code",
      "source": [
        "plt.figure(figsize = (10,7))\n",
        "indian_df.Age.hist()\n",
        "plt.title(\"Age distribution of Indian billionaires\")\n",
        "plt.xlabel('Age') \n",
        "plt.ylabel('Count')\n",
        "\n",
        "plt.savefig(\"Age distribution of Indian billionaires.png\")\n",
        "files.download(\"Age distribution of Indian billionaires.png\")\n",
        "plt.show()"
      ],
      "metadata": {
        "colab": {
          "base_uri": "https://localhost:8080/",
          "height": 458
        },
        "id": "rAHK5Guc8rRr",
        "outputId": "33f3050d-32bb-4e0e-b52b-71aac0e0dfee"
      },
      "execution_count": null,
      "outputs": [
        {
          "output_type": "display_data",
          "data": {
            "application/javascript": [
              "\n",
              "    async function download(id, filename, size) {\n",
              "      if (!google.colab.kernel.accessAllowed) {\n",
              "        return;\n",
              "      }\n",
              "      const div = document.createElement('div');\n",
              "      const label = document.createElement('label');\n",
              "      label.textContent = `Downloading \"${filename}\": `;\n",
              "      div.appendChild(label);\n",
              "      const progress = document.createElement('progress');\n",
              "      progress.max = size;\n",
              "      div.appendChild(progress);\n",
              "      document.body.appendChild(div);\n",
              "\n",
              "      const buffers = [];\n",
              "      let downloaded = 0;\n",
              "\n",
              "      const channel = await google.colab.kernel.comms.open(id);\n",
              "      // Send a message to notify the kernel that we're ready.\n",
              "      channel.send({})\n",
              "\n",
              "      for await (const message of channel.messages) {\n",
              "        // Send a message to notify the kernel that we're ready.\n",
              "        channel.send({})\n",
              "        if (message.buffers) {\n",
              "          for (const buffer of message.buffers) {\n",
              "            buffers.push(buffer);\n",
              "            downloaded += buffer.byteLength;\n",
              "            progress.value = downloaded;\n",
              "          }\n",
              "        }\n",
              "      }\n",
              "      const blob = new Blob(buffers, {type: 'application/binary'});\n",
              "      const a = document.createElement('a');\n",
              "      a.href = window.URL.createObjectURL(blob);\n",
              "      a.download = filename;\n",
              "      div.appendChild(a);\n",
              "      a.click();\n",
              "      div.remove();\n",
              "    }\n",
              "  "
            ],
            "text/plain": [
              "<IPython.core.display.Javascript object>"
            ]
          },
          "metadata": {}
        },
        {
          "output_type": "display_data",
          "data": {
            "application/javascript": [
              "download(\"download_81ffee16-c5da-4ee6-8758-601adb885d26\", \"Age distribution of Indian billionaires.png\", 11927)"
            ],
            "text/plain": [
              "<IPython.core.display.Javascript object>"
            ]
          },
          "metadata": {}
        },
        {
          "output_type": "display_data",
          "data": {
            "image/png": "[encoded data removed]",
            "text/plain": [
              "<Figure size 720x504 with 1 Axes>"
            ]
          },
          "metadata": {
            "needs_background": "light"
          }
        }
      ]
    },
    {
      "cell_type": "markdown",
      "source": [
        "\n",
        "\n",
        "\n",
        "      In India, majority of the billionares are in the age group 65 - 70."
      ],
      "metadata": {
        "id": "Urbls_Oc9guK"
      }
    },
    {
      "cell_type": "code",
      "source": [
        "indian_df.sort_values(by = ['Age']).head()"
      ],
      "metadata": {
        "colab": {
          "base_uri": "https://localhost:8080/",
          "height": 293
        },
        "id": "GrNypJ-L9xBO",
        "outputId": "7e634673-0512-4470-b4a4-72b5018d76ea"
      },
      "execution_count": null,
      "outputs": [
        {
          "output_type": "execute_result",
          "data": {
            "text/html": [
              "<div>\n",
              "<style scoped>\n",
              "    .dataframe tbody tr th:only-of-type {\n",
              "        vertical-align: middle;\n",
              "    }\n",
              "\n",
              "    .dataframe tbody tr th {\n",
              "        vertical-align: top;\n",
              "    }\n",
              "\n",
              "    .dataframe thead th {\n",
              "        text-align: right;\n",
              "    }\n",
              "</style>\n",
              "<table border=\"1\" class=\"dataframe\">\n",
              "  <thead>\n",
              "    <tr style=\"text-align: right;\">\n",
              "      <th></th>\n",
              "      <th>Name</th>\n",
              "      <th>NetWorth</th>\n",
              "      <th>Country</th>\n",
              "      <th>Source</th>\n",
              "      <th>Rank</th>\n",
              "      <th>Age</th>\n",
              "      <th>Residence</th>\n",
              "      <th>Citizenship</th>\n",
              "      <th>Status</th>\n",
              "      <th>Children</th>\n",
              "      <th>Education</th>\n",
              "      <th>Self_made</th>\n",
              "      <th>Industry</th>\n",
              "    </tr>\n",
              "  </thead>\n",
              "  <tbody>\n",
              "    <tr>\n",
              "      <th>2528</th>\n",
              "      <td>Binny Bansal</td>\n",
              "      <td>1.1</td>\n",
              "      <td>India</td>\n",
              "      <td>flipkart</td>\n",
              "      <td>2524</td>\n",
              "      <td>38.0</td>\n",
              "      <td>Singapore, Singapore</td>\n",
              "      <td>India</td>\n",
              "      <td>Married</td>\n",
              "      <td>2.0</td>\n",
              "      <td>Bachelor of Science in Engineering, Indian Ins...</td>\n",
              "      <td>True</td>\n",
              "      <td>Technology</td>\n",
              "    </tr>\n",
              "    <tr>\n",
              "      <th>1255</th>\n",
              "      <td>Byju Raveendran and Divya Gokulnath</td>\n",
              "      <td>2.5</td>\n",
              "      <td>India</td>\n",
              "      <td>education technology</td>\n",
              "      <td>1249</td>\n",
              "      <td>39.0</td>\n",
              "      <td>Bangalore, India</td>\n",
              "      <td>India</td>\n",
              "      <td>Married</td>\n",
              "      <td>2.0</td>\n",
              "      <td>NaN</td>\n",
              "      <td>True</td>\n",
              "      <td>Technology</td>\n",
              "    </tr>\n",
              "    <tr>\n",
              "      <th>2382</th>\n",
              "      <td>Sachin Bansal</td>\n",
              "      <td>1.2</td>\n",
              "      <td>India</td>\n",
              "      <td>flipkart</td>\n",
              "      <td>2378</td>\n",
              "      <td>39.0</td>\n",
              "      <td>Bangalore, India</td>\n",
              "      <td>India</td>\n",
              "      <td>Married</td>\n",
              "      <td>1.0</td>\n",
              "      <td>Bachelor of Science in Engineering, Indian Ins...</td>\n",
              "      <td>True</td>\n",
              "      <td>Fashion &amp; Retail</td>\n",
              "    </tr>\n",
              "    <tr>\n",
              "      <th>1424</th>\n",
              "      <td>Vijay Shekhar Sharma</td>\n",
              "      <td>2.3</td>\n",
              "      <td>India</td>\n",
              "      <td>financial technology</td>\n",
              "      <td>1362</td>\n",
              "      <td>42.0</td>\n",
              "      <td>Delhi, India</td>\n",
              "      <td>India</td>\n",
              "      <td>Married</td>\n",
              "      <td>1.0</td>\n",
              "      <td>Bachelor of Science in Engineering, Delhi Univ...</td>\n",
              "      <td>True</td>\n",
              "      <td>Service</td>\n",
              "    </tr>\n",
              "    <tr>\n",
              "      <th>1447</th>\n",
              "      <td>Acharya Balkrishna</td>\n",
              "      <td>2.2</td>\n",
              "      <td>India</td>\n",
              "      <td>consumer goods</td>\n",
              "      <td>1444</td>\n",
              "      <td>48.0</td>\n",
              "      <td>Haridwar, India</td>\n",
              "      <td>India</td>\n",
              "      <td>Single</td>\n",
              "      <td>NaN</td>\n",
              "      <td>NaN</td>\n",
              "      <td>True</td>\n",
              "      <td>Food &amp; Beverage</td>\n",
              "    </tr>\n",
              "  </tbody>\n",
              "</table>\n",
              "</div>"
            ],
            "text/plain": [
              "                                     Name  NetWorth  ... Self_made          Industry\n",
              "2528                         Binny Bansal       1.1  ...      True        Technology\n",
              "1255  Byju Raveendran and Divya Gokulnath       2.5  ...      True        Technology\n",
              "2382                        Sachin Bansal       1.2  ...      True  Fashion & Retail\n",
              "1424                 Vijay Shekhar Sharma       2.3  ...      True           Service\n",
              "1447                   Acharya Balkrishna       2.2  ...      True   Food & Beverage\n",
              "\n",
              "[5 rows x 13 columns]"
            ]
          },
          "metadata": {},
          "execution_count": 77
        }
      ]
    },
    {
      "cell_type": "code",
      "source": [
        "indian_df.sort_values(by = ['Age'], ascending = False).head()"
      ],
      "metadata": {
        "colab": {
          "base_uri": "https://localhost:8080/",
          "height": 206
        },
        "id": "yU1KoD8E-X04",
        "outputId": "a26b874a-85ef-487d-810c-baf3ce90fec2"
      },
      "execution_count": null,
      "outputs": [
        {
          "output_type": "execute_result",
          "data": {
            "text/html": [
              "<div>\n",
              "<style scoped>\n",
              "    .dataframe tbody tr th:only-of-type {\n",
              "        vertical-align: middle;\n",
              "    }\n",
              "\n",
              "    .dataframe tbody tr th {\n",
              "        vertical-align: top;\n",
              "    }\n",
              "\n",
              "    .dataframe thead th {\n",
              "        text-align: right;\n",
              "    }\n",
              "</style>\n",
              "<table border=\"1\" class=\"dataframe\">\n",
              "  <thead>\n",
              "    <tr style=\"text-align: right;\">\n",
              "      <th></th>\n",
              "      <th>Name</th>\n",
              "      <th>NetWorth</th>\n",
              "      <th>Country</th>\n",
              "      <th>Source</th>\n",
              "      <th>Rank</th>\n",
              "      <th>Age</th>\n",
              "      <th>Residence</th>\n",
              "      <th>Citizenship</th>\n",
              "      <th>Status</th>\n",
              "      <th>Children</th>\n",
              "      <th>Education</th>\n",
              "      <th>Self_made</th>\n",
              "      <th>Industry</th>\n",
              "    </tr>\n",
              "  </thead>\n",
              "  <tbody>\n",
              "    <tr>\n",
              "      <th>1872</th>\n",
              "      <td>Devendra Jain</td>\n",
              "      <td>1.7</td>\n",
              "      <td>India</td>\n",
              "      <td>chemicals</td>\n",
              "      <td>1833</td>\n",
              "      <td>92.0</td>\n",
              "      <td>Delhi, India</td>\n",
              "      <td>India</td>\n",
              "      <td>Married</td>\n",
              "      <td>4.0</td>\n",
              "      <td>Bachelor of Arts/Science, Delhi University</td>\n",
              "      <td>False</td>\n",
              "      <td>Manufacturing</td>\n",
              "    </tr>\n",
              "    <tr>\n",
              "      <th>1716</th>\n",
              "      <td>Lachhman Das Mittal</td>\n",
              "      <td>1.9</td>\n",
              "      <td>India</td>\n",
              "      <td>tractors</td>\n",
              "      <td>1664</td>\n",
              "      <td>90.0</td>\n",
              "      <td>Delhi, India</td>\n",
              "      <td>India</td>\n",
              "      <td>Married</td>\n",
              "      <td>5.0</td>\n",
              "      <td>Bachelor of Arts/Science, Punjab University; M...</td>\n",
              "      <td>False</td>\n",
              "      <td>Automotive</td>\n",
              "    </tr>\n",
              "    <tr>\n",
              "      <th>273</th>\n",
              "      <td>Benu Gopal Bangur</td>\n",
              "      <td>8.7</td>\n",
              "      <td>India</td>\n",
              "      <td>cement</td>\n",
              "      <td>274</td>\n",
              "      <td>89.0</td>\n",
              "      <td>Kolkata, India</td>\n",
              "      <td>India</td>\n",
              "      <td>Widowed</td>\n",
              "      <td>2.0</td>\n",
              "      <td>Bachelor of Arts/Science, Calcutta University</td>\n",
              "      <td>False</td>\n",
              "      <td>Manufacturing</td>\n",
              "    </tr>\n",
              "    <tr>\n",
              "      <th>2100</th>\n",
              "      <td>Prathap Reddy</td>\n",
              "      <td>1.5</td>\n",
              "      <td>India</td>\n",
              "      <td>healthcare</td>\n",
              "      <td>2035</td>\n",
              "      <td>89.0</td>\n",
              "      <td>Chennai, India</td>\n",
              "      <td>India</td>\n",
              "      <td>Married</td>\n",
              "      <td>4.0</td>\n",
              "      <td>NaN</td>\n",
              "      <td>True</td>\n",
              "      <td>Healthcare</td>\n",
              "    </tr>\n",
              "    <tr>\n",
              "      <th>302</th>\n",
              "      <td>Kushal Pal Singh</td>\n",
              "      <td>8.3</td>\n",
              "      <td>India</td>\n",
              "      <td>real estate</td>\n",
              "      <td>297</td>\n",
              "      <td>89.0</td>\n",
              "      <td>Delhi, India</td>\n",
              "      <td>India</td>\n",
              "      <td>Widowed</td>\n",
              "      <td>3.0</td>\n",
              "      <td>Bachelor of Arts/Science, Delhi University</td>\n",
              "      <td>False</td>\n",
              "      <td>Real Estate</td>\n",
              "    </tr>\n",
              "  </tbody>\n",
              "</table>\n",
              "</div>"
            ],
            "text/plain": [
              "                     Name  NetWorth  ... Self_made       Industry\n",
              "1872        Devendra Jain       1.7  ...     False  Manufacturing\n",
              "1716  Lachhman Das Mittal       1.9  ...     False     Automotive\n",
              "273     Benu Gopal Bangur       8.7  ...     False  Manufacturing\n",
              "2100        Prathap Reddy       1.5  ...      True     Healthcare\n",
              "302      Kushal Pal Singh       8.3  ...     False    Real Estate\n",
              "\n",
              "[5 rows x 13 columns]"
            ]
          },
          "metadata": {},
          "execution_count": 78
        }
      ]
    },
    {
      "cell_type": "markdown",
      "source": [
        "### Youngest Billionaire"
      ],
      "metadata": {
        "id": "FUgZMjPs22Uj"
      }
    },
    {
      "cell_type": "code",
      "source": [
        "df.sort_values(by = 'Age').head(1)"
      ],
      "metadata": {
        "colab": {
          "base_uri": "https://localhost:8080/",
          "height": 81
        },
        "id": "tcnOGrGi21Gh",
        "outputId": "e9112bb5-f2cf-4a47-de9a-22cda69e2590"
      },
      "execution_count": null,
      "outputs": [
        {
          "output_type": "execute_result",
          "data": {
            "text/html": [
              "<div>\n",
              "<style scoped>\n",
              "    .dataframe tbody tr th:only-of-type {\n",
              "        vertical-align: middle;\n",
              "    }\n",
              "\n",
              "    .dataframe tbody tr th {\n",
              "        vertical-align: top;\n",
              "    }\n",
              "\n",
              "    .dataframe thead th {\n",
              "        text-align: right;\n",
              "    }\n",
              "</style>\n",
              "<table border=\"1\" class=\"dataframe\">\n",
              "  <thead>\n",
              "    <tr style=\"text-align: right;\">\n",
              "      <th></th>\n",
              "      <th>Name</th>\n",
              "      <th>NetWorth</th>\n",
              "      <th>Country</th>\n",
              "      <th>Source</th>\n",
              "      <th>Rank</th>\n",
              "      <th>Age</th>\n",
              "      <th>Residence</th>\n",
              "      <th>Citizenship</th>\n",
              "      <th>Status</th>\n",
              "      <th>Children</th>\n",
              "      <th>Education</th>\n",
              "      <th>Self_made</th>\n",
              "      <th>Industry</th>\n",
              "    </tr>\n",
              "  </thead>\n",
              "  <tbody>\n",
              "    <tr>\n",
              "      <th>940</th>\n",
              "      <td>Kevin David Lehmann</td>\n",
              "      <td>3.3</td>\n",
              "      <td>Germany</td>\n",
              "      <td>drugstores</td>\n",
              "      <td>925</td>\n",
              "      <td>18.0</td>\n",
              "      <td>NaN</td>\n",
              "      <td>Germany</td>\n",
              "      <td>NaN</td>\n",
              "      <td>NaN</td>\n",
              "      <td>NaN</td>\n",
              "      <td>False</td>\n",
              "      <td>Fashion &amp; Retail</td>\n",
              "    </tr>\n",
              "  </tbody>\n",
              "</table>\n",
              "</div>"
            ],
            "text/plain": [
              "                    Name  NetWorth  ... Self_made          Industry\n",
              "940  Kevin David Lehmann       3.3  ...     False  Fashion & Retail\n",
              "\n",
              "[1 rows x 13 columns]"
            ]
          },
          "metadata": {},
          "execution_count": 63
        }
      ]
    },
    {
      "cell_type": "markdown",
      "source": [
        "### Oldest Billionaire"
      ],
      "metadata": {
        "id": "vwPPyn--27sG"
      }
    },
    {
      "cell_type": "code",
      "source": [
        "df.sort_values(by = 'Age', ascending = False).head(1)"
      ],
      "metadata": {
        "colab": {
          "base_uri": "https://localhost:8080/",
          "height": 81
        },
        "id": "VVsTlHpC0hL5",
        "outputId": "0746f5a7-bcf1-4be5-a927-3671a7565f81"
      },
      "execution_count": null,
      "outputs": [
        {
          "output_type": "execute_result",
          "data": {
            "text/html": [
              "<div>\n",
              "<style scoped>\n",
              "    .dataframe tbody tr th:only-of-type {\n",
              "        vertical-align: middle;\n",
              "    }\n",
              "\n",
              "    .dataframe tbody tr th {\n",
              "        vertical-align: top;\n",
              "    }\n",
              "\n",
              "    .dataframe thead th {\n",
              "        text-align: right;\n",
              "    }\n",
              "</style>\n",
              "<table border=\"1\" class=\"dataframe\">\n",
              "  <thead>\n",
              "    <tr style=\"text-align: right;\">\n",
              "      <th></th>\n",
              "      <th>Name</th>\n",
              "      <th>NetWorth</th>\n",
              "      <th>Country</th>\n",
              "      <th>Source</th>\n",
              "      <th>Rank</th>\n",
              "      <th>Age</th>\n",
              "      <th>Residence</th>\n",
              "      <th>Citizenship</th>\n",
              "      <th>Status</th>\n",
              "      <th>Children</th>\n",
              "      <th>Education</th>\n",
              "      <th>Self_made</th>\n",
              "      <th>Industry</th>\n",
              "    </tr>\n",
              "  </thead>\n",
              "  <tbody>\n",
              "    <tr>\n",
              "      <th>1611</th>\n",
              "      <td>George Joseph</td>\n",
              "      <td>2.0</td>\n",
              "      <td>United States</td>\n",
              "      <td>insurance</td>\n",
              "      <td>1580</td>\n",
              "      <td>99.0</td>\n",
              "      <td>Los Angeles, California</td>\n",
              "      <td>United States</td>\n",
              "      <td>Married</td>\n",
              "      <td>5.0</td>\n",
              "      <td>Bachelor of Arts/Science, Harvard University</td>\n",
              "      <td>True</td>\n",
              "      <td>Finance &amp; Investments</td>\n",
              "    </tr>\n",
              "  </tbody>\n",
              "</table>\n",
              "</div>"
            ],
            "text/plain": [
              "               Name  NetWorth  ... Self_made               Industry\n",
              "1611  George Joseph       2.0  ...      True  Finance & Investments\n",
              "\n",
              "[1 rows x 13 columns]"
            ]
          },
          "metadata": {},
          "execution_count": 66
        }
      ]
    },
    {
      "cell_type": "markdown",
      "source": [
        "# Self Made Billionaires\n",
        "\n",
        "\n"
      ],
      "metadata": {
        "id": "f_ARt7Ok_PgT"
      }
    },
    {
      "cell_type": "code",
      "source": [
        "plt.figure(figsize = (7,10))\n",
        "group = ['True', 'False']\n",
        "plt.bar(group, df.Self_made.value_counts().values, label = 'World')\n",
        "plt.bar(group, indian_df.Self_made.value_counts().values, label = 'India')\n",
        "\n",
        "\n",
        "plt.title(\"Self Made Billionaires \")\n",
        "plt.xlabel('Self Made') \n",
        "plt.ylabel('Count')\n",
        "plt.legend()\n",
        "\n",
        "plt.savefig(\"Self Made Billionaires.png\")\n",
        "files.download(\"Self Made Billionaires.png\")\n",
        "plt.show()\n"
      ],
      "metadata": {
        "colab": {
          "base_uri": "https://localhost:8080/",
          "height": 621
        },
        "id": "6psTHoBS3nEl",
        "outputId": "8b15efd3-5ded-4270-96da-45730c519103"
      },
      "execution_count": null,
      "outputs": [
        {
          "output_type": "display_data",
          "data": {
            "application/javascript": [
              "\n",
              "    async function download(id, filename, size) {\n",
              "      if (!google.colab.kernel.accessAllowed) {\n",
              "        return;\n",
              "      }\n",
              "      const div = document.createElement('div');\n",
              "      const label = document.createElement('label');\n",
              "      label.textContent = `Downloading \"${filename}\": `;\n",
              "      div.appendChild(label);\n",
              "      const progress = document.createElement('progress');\n",
              "      progress.max = size;\n",
              "      div.appendChild(progress);\n",
              "      document.body.appendChild(div);\n",
              "\n",
              "      const buffers = [];\n",
              "      let downloaded = 0;\n",
              "\n",
              "      const channel = await google.colab.kernel.comms.open(id);\n",
              "      // Send a message to notify the kernel that we're ready.\n",
              "      channel.send({})\n",
              "\n",
              "      for await (const message of channel.messages) {\n",
              "        // Send a message to notify the kernel that we're ready.\n",
              "        channel.send({})\n",
              "        if (message.buffers) {\n",
              "          for (const buffer of message.buffers) {\n",
              "            buffers.push(buffer);\n",
              "            downloaded += buffer.byteLength;\n",
              "            progress.value = downloaded;\n",
              "          }\n",
              "        }\n",
              "      }\n",
              "      const blob = new Blob(buffers, {type: 'application/binary'});\n",
              "      const a = document.createElement('a');\n",
              "      a.href = window.URL.createObjectURL(blob);\n",
              "      a.download = filename;\n",
              "      div.appendChild(a);\n",
              "      a.click();\n",
              "      div.remove();\n",
              "    }\n",
              "  "
            ],
            "text/plain": [
              "<IPython.core.display.Javascript object>"
            ]
          },
          "metadata": {}
        },
        {
          "output_type": "display_data",
          "data": {
            "application/javascript": [
              "download(\"download_8f89d092-5033-4573-ae8c-cca1ae934acf\", \"Self Made Billionaires.png\", 13596)"
            ],
            "text/plain": [
              "<IPython.core.display.Javascript object>"
            ]
          },
          "metadata": {}
        },
        {
          "output_type": "display_data",
          "data": {
            "image/png": "[encoded data removed]",
            "text/plain": [
              "<Figure size 504x720 with 1 Axes>"
            ]
          },
          "metadata": {
            "needs_background": "light"
          }
        }
      ]
    },
    {
      "cell_type": "code",
      "source": [
        "plt.figure(figsize = (4,5))\n",
        "group = ['True', 'False']\n",
        "plt.bar(group, indian_df.Self_made.value_counts().values, color = ('pink','0.9'))\n",
        "\n",
        "\n",
        "plt.title(\"Self Made Indian Billionaires \")\n",
        "plt.xlabel('Self Made') \n",
        "plt.ylabel('Count')\n",
        "\n",
        "# plt.savefig(\"Self Made Indian Billionaires.png\")\n",
        "# files.download(\"Self Made Indian Billionaires.png\")\n",
        "plt.show()"
      ],
      "metadata": {
        "colab": {
          "base_uri": "https://localhost:8080/",
          "height": 350
        },
        "id": "HOg6upvWDo4a",
        "outputId": "1fe178d9-d81a-48c9-9496-7bc24c8039bb"
      },
      "execution_count": null,
      "outputs": [
        {
          "output_type": "display_data",
          "data": {
            "image/png": "[encoded data removed]",
            "text/plain": [
              "<Figure size 288x360 with 1 Axes>"
            ]
          },
          "metadata": {
            "needs_background": "light"
          }
        }
      ]
    },
    {
      "cell_type": "markdown",
      "source": [
        "\n",
        "\n",
        "     Most of the billionaires are Self Made but in India the difference is not much."
      ],
      "metadata": {
        "id": "UmPUe3BrEJR6"
      }
    },
    {
      "cell_type": "markdown",
      "source": [
        "# Status"
      ],
      "metadata": {
        "id": "vh8iY3GAEjVj"
      }
    },
    {
      "cell_type": "code",
      "source": [
        "df.Status.value_counts()"
      ],
      "metadata": {
        "colab": {
          "base_uri": "https://localhost:8080/"
        },
        "id": "4uqkjQINFCnP",
        "outputId": "0617c87f-3100-4e73-a364-5381b3625706"
      },
      "execution_count": null,
      "outputs": [
        {
          "output_type": "execute_result",
          "data": {
            "text/plain": [
              "Married               1734\n",
              "Divorced               144\n",
              "Widowed                 95\n",
              "Single                  74\n",
              "In Relationship         21\n",
              "Separated               10\n",
              "Widowed, Remarried       8\n",
              "Engaged                  4\n",
              "Name: Status, dtype: int64"
            ]
          },
          "metadata": {},
          "execution_count": 102
        }
      ]
    },
    {
      "cell_type": "code",
      "source": [
        "top_10.Status.value_counts()\n"
      ],
      "metadata": {
        "colab": {
          "base_uri": "https://localhost:8080/"
        },
        "id": "QFuwsvTdFTAf",
        "outputId": "5941fc17-afeb-4e0c-95d3-cca2df0559ad"
      },
      "execution_count": null,
      "outputs": [
        {
          "output_type": "execute_result",
          "data": {
            "text/plain": [
              "Married               5\n",
              "In Relationship       3\n",
              "Divorced              1\n",
              "Widowed, Remarried    1\n",
              "Name: Status, dtype: int64"
            ]
          },
          "metadata": {},
          "execution_count": 104
        }
      ]
    },
    {
      "cell_type": "markdown",
      "source": [
        "# Children"
      ],
      "metadata": {
        "id": "Mt2L6-TxF1ZT"
      }
    },
    {
      "cell_type": "code",
      "source": [
        "df['Children'].value_counts()"
      ],
      "metadata": {
        "colab": {
          "base_uri": "https://localhost:8080/"
        },
        "id": "cg8Nuv1vFe5l",
        "outputId": "648192ae-90c3-4c11-95dd-2345a2e798e2"
      },
      "execution_count": null,
      "outputs": [
        {
          "output_type": "execute_result",
          "data": {
            "text/plain": [
              "2.0     533\n",
              "3.0     440\n",
              "4.0     227\n",
              "1.0     161\n",
              "5.0     104\n",
              "6.0      39\n",
              "7.0      24\n",
              "8.0      10\n",
              "10.0      6\n",
              "11.0      2\n",
              "9.0       2\n",
              "23.0      1\n",
              "15.0      1\n",
              "14.0      1\n",
              "13.0      1\n",
              "Name: Children, dtype: int64"
            ]
          },
          "metadata": {},
          "execution_count": 106
        }
      ]
    },
    {
      "cell_type": "code",
      "source": [
        "top_10['Children'].value_counts()\n"
      ],
      "metadata": {
        "colab": {
          "base_uri": "https://localhost:8080/"
        },
        "id": "IAWkfcsAF7hd",
        "outputId": "c8c63f96-c7b1-4919-aaa3-537dca57e202"
      },
      "execution_count": null,
      "outputs": [
        {
          "output_type": "execute_result",
          "data": {
            "text/plain": [
              "3.0    4\n",
              "4.0    2\n",
              "1.0    1\n",
              "2.0    1\n",
              "5.0    1\n",
              "7.0    1\n",
              "Name: Children, dtype: int64"
            ]
          },
          "metadata": {},
          "execution_count": 107
        }
      ]
    },
    {
      "cell_type": "code",
      "source": [
        "indian_df['Children'].value_counts()\n"
      ],
      "metadata": {
        "colab": {
          "base_uri": "https://localhost:8080/"
        },
        "id": "ngbI8vbvGGcr",
        "outputId": "0bf6c369-634a-4b66-d99b-f17f921de023"
      },
      "execution_count": null,
      "outputs": [
        {
          "output_type": "execute_result",
          "data": {
            "text/plain": [
              "2.0    71\n",
              "3.0    34\n",
              "1.0    10\n",
              "4.0     4\n",
              "5.0     2\n",
              "9.0     1\n",
              "Name: Children, dtype: int64"
            ]
          },
          "metadata": {},
          "execution_count": 108
        }
      ]
    },
    {
      "cell_type": "markdown",
      "source": [
        "# Education"
      ],
      "metadata": {
        "id": "FWQbMywtGZcz"
      }
    },
    {
      "cell_type": "markdown",
      "source": [
        "### Making new Fields- Course and Institute"
      ],
      "metadata": {
        "id": "2uORpNx-GcTx"
      }
    },
    {
      "cell_type": "code",
      "source": [
        "df.Education.isnull().sum()"
      ],
      "metadata": {
        "colab": {
          "base_uri": "https://localhost:8080/"
        },
        "id": "TWzEilarGOIv",
        "outputId": "400098bb-5c78-4bdd-f46f-a3b91d72497b"
      },
      "execution_count": null,
      "outputs": [
        {
          "output_type": "execute_result",
          "data": {
            "text/plain": [
              "1346"
            ]
          },
          "metadata": {},
          "execution_count": 77
        }
      ]
    },
    {
      "cell_type": "code",
      "source": [
        "df['Education'].fillna('Unknown,Unknown', inplace = True)\n",
        "df.Education.isnull().sum()"
      ],
      "metadata": {
        "colab": {
          "base_uri": "https://localhost:8080/"
        },
        "id": "099-RlxzIzci",
        "outputId": "a66f2b4d-f865-4101-c677-bf7b7b23719a"
      },
      "execution_count": null,
      "outputs": [
        {
          "output_type": "execute_result",
          "data": {
            "text/plain": [
              "0"
            ]
          },
          "metadata": {},
          "execution_count": 78
        }
      ]
    },
    {
      "cell_type": "code",
      "source": [
        "df['Course'] = df['Education'].apply(lambda x: x.split(',')[0])\n",
        "df['Institute'] = df['Education'].apply(lambda x: x.split(',')[-1])\n",
        "df.head()\n"
      ],
      "metadata": {
        "colab": {
          "base_uri": "https://localhost:8080/",
          "height": 513
        },
        "id": "BRzJEyKoGoAS",
        "outputId": "767718bd-bb36-4b94-9732-e9236ac8f2bd"
      },
      "execution_count": null,
      "outputs": [
        {
          "output_type": "execute_result",
          "data": {
            "text/html": [
              "\n",
              "  <div id=\"df-7ddb0050-53b1-4ae8-8723-1a90eba9afd0\">\n",
              "    <div class=\"colab-df-container\">\n",
              "      <div>\n",
              "<style scoped>\n",
              "    .dataframe tbody tr th:only-of-type {\n",
              "        vertical-align: middle;\n",
              "    }\n",
              "\n",
              "    .dataframe tbody tr th {\n",
              "        vertical-align: top;\n",
              "    }\n",
              "\n",
              "    .dataframe thead th {\n",
              "        text-align: right;\n",
              "    }\n",
              "</style>\n",
              "<table border=\"1\" class=\"dataframe\">\n",
              "  <thead>\n",
              "    <tr style=\"text-align: right;\">\n",
              "      <th></th>\n",
              "      <th>Name</th>\n",
              "      <th>NetWorth</th>\n",
              "      <th>Country</th>\n",
              "      <th>Source</th>\n",
              "      <th>Rank</th>\n",
              "      <th>Age</th>\n",
              "      <th>Residence</th>\n",
              "      <th>Citizenship</th>\n",
              "      <th>Status</th>\n",
              "      <th>Children</th>\n",
              "      <th>Education</th>\n",
              "      <th>Self_made</th>\n",
              "      <th>Industry</th>\n",
              "      <th>Course</th>\n",
              "      <th>Institute</th>\n",
              "    </tr>\n",
              "  </thead>\n",
              "  <tbody>\n",
              "    <tr>\n",
              "      <th>0</th>\n",
              "      <td>Jeff Bezos</td>\n",
              "      <td>177.0</td>\n",
              "      <td>United States</td>\n",
              "      <td>Amazon</td>\n",
              "      <td>1</td>\n",
              "      <td>57.0</td>\n",
              "      <td>Seattle, Washington</td>\n",
              "      <td>United States</td>\n",
              "      <td>In Relationship</td>\n",
              "      <td>4.0</td>\n",
              "      <td>Bachelor of Arts/Science, Princeton University</td>\n",
              "      <td>True</td>\n",
              "      <td>Technology</td>\n",
              "      <td>Bachelor of Arts/Science</td>\n",
              "      <td>Princeton University</td>\n",
              "    </tr>\n",
              "    <tr>\n",
              "      <th>1</th>\n",
              "      <td>Elon Musk</td>\n",
              "      <td>151.0</td>\n",
              "      <td>United States</td>\n",
              "      <td>Tesla, SpaceX</td>\n",
              "      <td>2</td>\n",
              "      <td>49.0</td>\n",
              "      <td>Austin, Texas</td>\n",
              "      <td>United States</td>\n",
              "      <td>In Relationship</td>\n",
              "      <td>7.0</td>\n",
              "      <td>Bachelor of Arts/Science, University of Pennsy...</td>\n",
              "      <td>True</td>\n",
              "      <td>Automotive</td>\n",
              "      <td>Bachelor of Arts/Science</td>\n",
              "      <td>University of Pennsylvania</td>\n",
              "    </tr>\n",
              "    <tr>\n",
              "      <th>2</th>\n",
              "      <td>Bernard Arnault &amp; family</td>\n",
              "      <td>150.0</td>\n",
              "      <td>France</td>\n",
              "      <td>LVMH</td>\n",
              "      <td>3</td>\n",
              "      <td>72.0</td>\n",
              "      <td>Paris, France</td>\n",
              "      <td>France</td>\n",
              "      <td>Married</td>\n",
              "      <td>5.0</td>\n",
              "      <td>Bachelor of Arts/Science, Ecole Polytechnique ...</td>\n",
              "      <td>False</td>\n",
              "      <td>Fashion &amp; Retail</td>\n",
              "      <td>Bachelor of Arts/Science</td>\n",
              "      <td>Ecole Polytechnique de Paris</td>\n",
              "    </tr>\n",
              "    <tr>\n",
              "      <th>3</th>\n",
              "      <td>Bill Gates</td>\n",
              "      <td>124.0</td>\n",
              "      <td>United States</td>\n",
              "      <td>Microsoft</td>\n",
              "      <td>4</td>\n",
              "      <td>65.0</td>\n",
              "      <td>Medina, Washington</td>\n",
              "      <td>United States</td>\n",
              "      <td>Divorced</td>\n",
              "      <td>3.0</td>\n",
              "      <td>Drop Out, Harvard University</td>\n",
              "      <td>True</td>\n",
              "      <td>Technology</td>\n",
              "      <td>Drop Out</td>\n",
              "      <td>Harvard University</td>\n",
              "    </tr>\n",
              "    <tr>\n",
              "      <th>4</th>\n",
              "      <td>Mark Zuckerberg</td>\n",
              "      <td>97.0</td>\n",
              "      <td>United States</td>\n",
              "      <td>Facebook</td>\n",
              "      <td>5</td>\n",
              "      <td>36.0</td>\n",
              "      <td>Palo Alto, California</td>\n",
              "      <td>United States</td>\n",
              "      <td>Married</td>\n",
              "      <td>2.0</td>\n",
              "      <td>Drop Out, Harvard University</td>\n",
              "      <td>True</td>\n",
              "      <td>Technology</td>\n",
              "      <td>Drop Out</td>\n",
              "      <td>Harvard University</td>\n",
              "    </tr>\n",
              "  </tbody>\n",
              "</table>\n",
              "</div>\n",
              "      <button class=\"colab-df-convert\" onclick=\"convertToInteractive('df-7ddb0050-53b1-4ae8-8723-1a90eba9afd0')\"\n",
              "              title=\"Convert this dataframe to an interactive table.\"\n",
              "              style=\"display:none;\">\n",
              "        \n",
              "  <svg xmlns=\"http://www.w3.org/2000/svg\" height=\"24px\"viewBox=\"0 0 24 24\"\n",
              "       width=\"24px\">\n",
              "    <path d=\"M0 0h24v24H0V0z\" fill=\"none\"/>\n",
              "    <path d=\"M18.56 5.44l.94 2.06.94-2.06 2.06-.94-2.06-.94-.94-2.06-.94 2.06-2.06.94zm-11 1L8.5 8.5l.94-2.06 2.06-.94-2.06-.94L8.5 2.5l-.94 2.06-2.06.94zm10 10l.94 2.06.94-2.06 2.06-.94-2.06-.94-.94-2.06-.94 2.06-2.06.94z\"/><path d=\"M17.41 7.96l-1.37-1.37c-.4-.4-.92-.59-1.43-.59-.52 0-1.04.2-1.43.59L10.3 9.45l-7.72 7.72c-.78.78-.78 2.05 0 2.83L4 21.41c.39.39.9.59 1.41.59.51 0 1.02-.2 1.41-.59l7.78-7.78 2.81-2.81c.8-.78.8-2.07 0-2.86zM5.41 20L4 18.59l7.72-7.72 1.47 1.35L5.41 20z\"/>\n",
              "  </svg>\n",
              "      </button>\n",
              "      \n",
              "  <style>\n",
              "    .colab-df-container {\n",
              "      display:flex;\n",
              "      flex-wrap:wrap;\n",
              "      gap: 12px;\n",
              "    }\n",
              "\n",
              "    .colab-df-convert {\n",
              "      background-color: #E8F0FE;\n",
              "      border: none;\n",
              "      border-radius: 50%;\n",
              "      cursor: pointer;\n",
              "      display: none;\n",
              "      fill: #1967D2;\n",
              "      height: 32px;\n",
              "      padding: 0 0 0 0;\n",
              "      width: 32px;\n",
              "    }\n",
              "\n",
              "    .colab-df-convert:hover {\n",
              "      background-color: #E2EBFA;\n",
              "      box-shadow: 0px 1px 2px rgba(60, 64, 67, 0.3), 0px 1px 3px 1px rgba(60, 64, 67, 0.15);\n",
              "      fill: #174EA6;\n",
              "    }\n",
              "\n",
              "    [theme=dark] .colab-df-convert {\n",
              "      background-color: #3B4455;\n",
              "      fill: #D2E3FC;\n",
              "    }\n",
              "\n",
              "    [theme=dark] .colab-df-convert:hover {\n",
              "      background-color: #434B5C;\n",
              "      box-shadow: 0px 1px 3px 1px rgba(0, 0, 0, 0.15);\n",
              "      filter: drop-shadow(0px 1px 2px rgba(0, 0, 0, 0.3));\n",
              "      fill: #FFFFFF;\n",
              "    }\n",
              "  </style>\n",
              "\n",
              "      <script>\n",
              "        const buttonEl =\n",
              "          document.querySelector('#df-7ddb0050-53b1-4ae8-8723-1a90eba9afd0 button.colab-df-convert');\n",
              "        buttonEl.style.display =\n",
              "          google.colab.kernel.accessAllowed ? 'block' : 'none';\n",
              "\n",
              "        async function convertToInteractive(key) {\n",
              "          const element = document.querySelector('#df-7ddb0050-53b1-4ae8-8723-1a90eba9afd0');\n",
              "          const dataTable =\n",
              "            await google.colab.kernel.invokeFunction('convertToInteractive',\n",
              "                                                     [key], {});\n",
              "          if (!dataTable) return;\n",
              "\n",
              "          const docLinkHtml = 'Like what you see? Visit the ' +\n",
              "            '<a target=\"_blank\" href=https://colab.research.google.com/notebooks/data_table.ipynb>data table notebook</a>'\n",
              "            + ' to learn more about interactive tables.';\n",
              "          element.innerHTML = '';\n",
              "          dataTable['output_type'] = 'display_data';\n",
              "          await google.colab.output.renderOutput(dataTable, element);\n",
              "          const docLink = document.createElement('div');\n",
              "          docLink.innerHTML = docLinkHtml;\n",
              "          element.appendChild(docLink);\n",
              "        }\n",
              "      </script>\n",
              "    </div>\n",
              "  </div>\n",
              "  "
            ],
            "text/plain": [
              "                       Name  ...                      Institute\n",
              "0                Jeff Bezos  ...           Princeton University\n",
              "1                 Elon Musk  ...     University of Pennsylvania\n",
              "2  Bernard Arnault & family  ...   Ecole Polytechnique de Paris\n",
              "3                Bill Gates  ...             Harvard University\n",
              "4           Mark Zuckerberg  ...             Harvard University\n",
              "\n",
              "[5 rows x 15 columns]"
            ]
          },
          "metadata": {},
          "execution_count": 79
        }
      ]
    },
    {
      "cell_type": "code",
      "source": [
        "df.Course.isnull().sum()"
      ],
      "metadata": {
        "colab": {
          "base_uri": "https://localhost:8080/"
        },
        "id": "v3hOPhIPNlUg",
        "outputId": "b4c404b9-5907-4a1e-f365-07aa9616dccb"
      },
      "execution_count": null,
      "outputs": [
        {
          "output_type": "execute_result",
          "data": {
            "text/plain": [
              "0"
            ]
          },
          "metadata": {},
          "execution_count": 80
        }
      ]
    },
    {
      "cell_type": "code",
      "source": [
        "df.Institute.isnull().sum()"
      ],
      "metadata": {
        "colab": {
          "base_uri": "https://localhost:8080/"
        },
        "id": "ODjiyINdNpG6",
        "outputId": "6e544f67-3feb-49d6-8849-4c7465a89cf0"
      },
      "execution_count": null,
      "outputs": [
        {
          "output_type": "execute_result",
          "data": {
            "text/plain": [
              "0"
            ]
          },
          "metadata": {},
          "execution_count": 155
        }
      ]
    },
    {
      "cell_type": "markdown",
      "source": [
        "### Course"
      ],
      "metadata": {
        "id": "oJwfLERwP_8T"
      }
    },
    {
      "cell_type": "code",
      "source": [
        "df['Course'].value_counts()[:11]"
      ],
      "metadata": {
        "colab": {
          "base_uri": "https://localhost:8080/"
        },
        "id": "_XgmbCs6NUG_",
        "outputId": "2eaf6730-416b-4c2f-dae8-3a0922051ad5"
      },
      "execution_count": null,
      "outputs": [
        {
          "output_type": "execute_result",
          "data": {
            "text/plain": [
              "Unknown                               1346\n",
              "Bachelor of Arts/Science               638\n",
              "Master of Business Administration      166\n",
              "Master of Science                       82\n",
              "Drop Out                                74\n",
              "Bachelor of Science                     46\n",
              "Bachelor of Science in Engineering      44\n",
              "Doctorate                               40\n",
              "Diploma                                 35\n",
              "Bachelor of Arts/Economics              29\n",
              "Bachelor of Engineering                 28\n",
              "Name: Course, dtype: int64"
            ]
          },
          "metadata": {},
          "execution_count": 81
        }
      ]
    },
    {
      "cell_type": "code",
      "source": [
        "plt.figure(figsize = (12,5))\n",
        "# plt.figure(figsize = (20,7))\n",
        "plt.barh(df['Course'].value_counts()[1:11].index ,\n",
        "         df['Course'].value_counts()[1:11].values,\n",
        "         color = ('#f08080' , '#f4978e' , '#f8ad9d', '#fbc4ab' , '#ffdab9','#f08080' , '#f4978e' , '#f8ad9d', '#fbc4ab' , '#ffdab9'))\n",
        "plt.title(\"Top courses opted by billionaires\")\n",
        "plt.xlabel('Count') \n",
        "plt.ylabel('Course')\n",
        "\n",
        "# plt.savefig(\"Top courses opted by billionaires.png\")\n",
        "# files.download(\"Top courses opted by billionaires.png\")\n",
        "plt.show()"
      ],
      "metadata": {
        "colab": {
          "base_uri": "https://localhost:8080/",
          "height": 350
        },
        "id": "4CDnZCZfOeYN",
        "outputId": "f5cb516a-3abf-4b2e-d3c1-bc7ebec0e011"
      },
      "execution_count": null,
      "outputs": [
        {
          "output_type": "display_data",
          "data": {
            "image/png": "[encoded data removed]",
            "text/plain": [
              "<Figure size 864x360 with 1 Axes>"
            ]
          },
          "metadata": {
            "needs_background": "light"
          }
        }
      ]
    },
    {
      "cell_type": "code",
      "source": [
        "top_10 = df.head(10)\n",
        "\n",
        "plt.figure(figsize = (12,5))\n",
        "plt.barh(top_10['Course'].value_counts()[1:11].index ,\n",
        "         top_10['Course'].value_counts()[1:11].values,\n",
        "         color = ('0.7','0.9'))\n",
        "plt.title(\"Courses opted by top 10 billionaires\")\n",
        "plt.xlabel('Count') \n",
        "plt.ylabel('Course')\n",
        "\n",
        "# plt.savefig(\"Courses opted by top 10 billionaires.png\")\n",
        "# files.download(\"Courses opted by top 10 billionaires.png\")\n",
        "plt.show()\n",
        "plt.show()"
      ],
      "metadata": {
        "colab": {
          "base_uri": "https://localhost:8080/",
          "height": 350
        },
        "id": "KrCXGK_LP867",
        "outputId": "b279d3cb-2316-4219-f4d9-0dfd7e4a125d"
      },
      "execution_count": null,
      "outputs": [
        {
          "output_type": "display_data",
          "data": {
            "image/png": "[encoded data removed]",
            "text/plain": [
              "<Figure size 864x360 with 1 Axes>"
            ]
          },
          "metadata": {
            "needs_background": "light"
          }
        }
      ]
    },
    {
      "cell_type": "code",
      "source": [
        "indian_df = df[df['Country'] == 'India']\n",
        "\n",
        "plt.figure(figsize = (12,5))\n",
        "plt.barh(indian_df['Course'].value_counts()[1:11].index ,\n",
        "         indian_df['Course'].value_counts()[1:11].values,\n",
        "         color = ('#dcf2fb', '#d7e3fc','#ccdbfd','#c1d3fe' ,'#abc4ff','#edf2fb', '#d7e3fc','#ccdbfd','#c1d3fe' ,'#ddf7fe'))\n",
        "plt.title(\"Top courses opted by Indian billionaires\")\n",
        "plt.xlabel('Count') \n",
        "plt.ylabel('Course')\n",
        "\n",
        "# plt.savefig(\"Top courses opted by Indian billionaires.png\")\n",
        "# files.download(\"Top courses opted by Indian billionaires.png\")\n",
        "plt.show()\n"
      ],
      "metadata": {
        "colab": {
          "base_uri": "https://localhost:8080/",
          "height": 350
        },
        "id": "ChQHX2wBP8nE",
        "outputId": "a40c439d-3a85-408b-c8e5-4a733ed91a19"
      },
      "execution_count": null,
      "outputs": [
        {
          "output_type": "display_data",
          "data": {
            "image/png": "[encoded data removed]",
            "text/plain": [
              "<Figure size 864x360 with 1 Axes>"
            ]
          },
          "metadata": {
            "needs_background": "light"
          }
        }
      ]
    },
    {
      "cell_type": "markdown",
      "source": [
        "### Institute"
      ],
      "metadata": {
        "id": "JzoEM4WpSa1l"
      }
    },
    {
      "cell_type": "code",
      "source": [
        "df['Institute'].value_counts()[1:11]"
      ],
      "metadata": {
        "colab": {
          "base_uri": "https://localhost:8080/"
        },
        "id": "oZzU41qzN4jG",
        "outputId": "67f165d2-dbf1-407b-86b4-4d0254653561"
      },
      "execution_count": null,
      "outputs": [
        {
          "output_type": "execute_result",
          "data": {
            "text/plain": [
              " Harvard University                       44\n",
              " Stanford University                      41\n",
              " High School                              39\n",
              " The Wharton School                       24\n",
              " Yale University                          21\n",
              " Massachusetts Institute of Technology    18\n",
              " Tsinghua University                      17\n",
              " University of Southern California        17\n",
              " Berkeley                                 15\n",
              " New York University                      14\n",
              "Name: Institute, dtype: int64"
            ]
          },
          "metadata": {},
          "execution_count": 163
        }
      ]
    },
    {
      "cell_type": "code",
      "source": [
        "plt.figure(figsize = (12,5))\n",
        "\n",
        "plt.barh(df['Institute'].value_counts()[1:11].index ,\n",
        "         df['Institute'].value_counts()[1:11].values,\n",
        "         color = ('#d1d1d1' , '#e7dbd6', '#e2e2e2' ,'#d1d1d1', '#eac4d5','#d1d1d1' , '#e1dbd6', '#e2e2e2' ,'#f7c6f7', '#f1d1d1'))\n",
        "plt.title(\"Top Institutes opted by billionaires\")\n",
        "plt.xlabel('Count') \n",
        "plt.ylabel('Institute')\n",
        "\n",
        "# plt.savefig(\"Top Institute opted by billionaires.png\")\n",
        "# files.download(\"Top Institute opted by billionaires.png\")\n",
        "plt.show()\n"
      ],
      "metadata": {
        "colab": {
          "base_uri": "https://localhost:8080/",
          "height": 350
        },
        "id": "wso0RNCLOJGo",
        "outputId": "99cf0e6f-0174-4c15-bb35-60fcdfd97d77"
      },
      "execution_count": null,
      "outputs": [
        {
          "output_type": "display_data",
          "data": {
            "image/png": "[encoded data removed]",
            "text/plain": [
              "<Figure size 864x360 with 1 Axes>"
            ]
          },
          "metadata": {
            "needs_background": "light"
          }
        }
      ]
    },
    {
      "cell_type": "code",
      "source": [
        "plt.figure(figsize = (12,5))\n",
        "plt.barh(indian_df['Institute'].value_counts()[1:11].index ,\n",
        "         indian_df['Institute'].value_counts()[1:11].values,\n",
        "         color = 'pink')\n",
        "plt.title(\"Top Institute opted by Indian billionaires\")\n",
        "plt.xlabel('Count') \n",
        "plt.ylabel('Institute')\n",
        "\n",
        "# from google.colab import files\n",
        "\n",
        "# plt.savefig(\"Top courses opted by Indian billionaires.png\")\n",
        "# files.download(\"Top courses opted by Indian billionaires.png\")\n",
        "plt.show()\n",
        "\n",
        "\n"
      ],
      "metadata": {
        "colab": {
          "base_uri": "https://localhost:8080/",
          "height": 350
        },
        "id": "AEdsXpccShkt",
        "outputId": "3326ab7f-d8d6-4828-ed64-53a0c90fbc96"
      },
      "execution_count": null,
      "outputs": [
        {
          "output_type": "display_data",
          "data": {
            "application/javascript": [
              "\n",
              "    async function download(id, filename, size) {\n",
              "      if (!google.colab.kernel.accessAllowed) {\n",
              "        return;\n",
              "      }\n",
              "      const div = document.createElement('div');\n",
              "      const label = document.createElement('label');\n",
              "      label.textContent = `Downloading \"${filename}\": `;\n",
              "      div.appendChild(label);\n",
              "      const progress = document.createElement('progress');\n",
              "      progress.max = size;\n",
              "      div.appendChild(progress);\n",
              "      document.body.appendChild(div);\n",
              "\n",
              "      const buffers = [];\n",
              "      let downloaded = 0;\n",
              "\n",
              "      const channel = await google.colab.kernel.comms.open(id);\n",
              "      // Send a message to notify the kernel that we're ready.\n",
              "      channel.send({})\n",
              "\n",
              "      for await (const message of channel.messages) {\n",
              "        // Send a message to notify the kernel that we're ready.\n",
              "        channel.send({})\n",
              "        if (message.buffers) {\n",
              "          for (const buffer of message.buffers) {\n",
              "            buffers.push(buffer);\n",
              "            downloaded += buffer.byteLength;\n",
              "            progress.value = downloaded;\n",
              "          }\n",
              "        }\n",
              "      }\n",
              "      const blob = new Blob(buffers, {type: 'application/binary'});\n",
              "      const a = document.createElement('a');\n",
              "      a.href = window.URL.createObjectURL(blob);\n",
              "      a.download = filename;\n",
              "      div.appendChild(a);\n",
              "      a.click();\n",
              "      div.remove();\n",
              "    }\n",
              "  "
            ],
            "text/plain": [
              "<IPython.core.display.Javascript object>"
            ]
          },
          "metadata": {}
        },
        {
          "output_type": "display_data",
          "data": {
            "application/javascript": [
              "download(\"download_88051307-a19f-462d-9667-63e00e64f9eb\", \"Top courses opted by Indian billionaires.png\", 22515)"
            ],
            "text/plain": [
              "<IPython.core.display.Javascript object>"
            ]
          },
          "metadata": {}
        },
        {
          "output_type": "display_data",
          "data": {
            "image/png": "[encoded data removed]",
            "text/plain": [
              "<Figure size 864x360 with 1 Axes>"
            ]
          },
          "metadata": {
            "needs_background": "light"
          }
        }
      ]
    },
    {
      "cell_type": "markdown",
      "source": [
        "\n",
        "\n",
        "\n",
        "          Created by - \n",
        "          \n",
        "           Tanisha Yadav \n",
        "\n",
        "           "
      ],
      "metadata": {
        "id": "Ompl5XLblCEQ"
      }
    },
    {
      "cell_type": "code",
      "source": [
        ""
      ],
      "metadata": {
        "id": "FXK8V5syTdLX"
      },
      "execution_count": null,
      "outputs": []
    }
  ]
}